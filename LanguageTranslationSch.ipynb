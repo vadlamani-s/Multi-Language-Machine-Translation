{
  "nbformat": 4,
  "nbformat_minor": 0,
  "metadata": {
    "colab": {
      "name": "LanguageTranslationSch.ipynb",
      "provenance": [],
      "include_colab_link": true
    },
    "kernelspec": {
      "name": "python3",
      "display_name": "Python 3"
    },
    "accelerator": "GPU"
  },
  "cells": [
    {
      "cell_type": "markdown",
      "metadata": {
        "id": "view-in-github",
        "colab_type": "text"
      },
      "source": [
        "<a href=\"https://colab.research.google.com/github/vadlamani-s/Schneider/blob/main/LanguageTranslationSch.ipynb\" target=\"_parent\"><img src=\"https://colab.research.google.com/assets/colab-badge.svg\" alt=\"Open In Colab\"/></a>"
      ]
    },
    {
      "cell_type": "code",
      "metadata": {
        "colab": {
          "base_uri": "https://localhost:8080/"
        },
        "id": "ZjedieXh8-8i",
        "outputId": "35cc7f7d-3165-45ed-a909-7fe2ccd8014e"
      },
      "source": [
        "pip install fasttext"
      ],
      "execution_count": 1,
      "outputs": [
        {
          "output_type": "stream",
          "text": [
            "Collecting fasttext\n",
            "\u001b[?25l  Downloading https://files.pythonhosted.org/packages/f8/85/e2b368ab6d3528827b147fdb814f8189acc981a4bc2f99ab894650e05c40/fasttext-0.9.2.tar.gz (68kB)\n",
            "\r\u001b[K     |████▊                           | 10kB 20.2MB/s eta 0:00:01\r\u001b[K     |█████████▌                      | 20kB 25.9MB/s eta 0:00:01\r\u001b[K     |██████████████▎                 | 30kB 17.8MB/s eta 0:00:01\r\u001b[K     |███████████████████             | 40kB 12.2MB/s eta 0:00:01\r\u001b[K     |███████████████████████▉        | 51kB 8.7MB/s eta 0:00:01\r\u001b[K     |████████████████████████████▋   | 61kB 9.0MB/s eta 0:00:01\r\u001b[K     |████████████████████████████████| 71kB 5.2MB/s \n",
            "\u001b[?25hRequirement already satisfied: pybind11>=2.2 in /usr/local/lib/python3.6/dist-packages (from fasttext) (2.6.1)\n",
            "Requirement already satisfied: setuptools>=0.7.0 in /usr/local/lib/python3.6/dist-packages (from fasttext) (50.3.2)\n",
            "Requirement already satisfied: numpy in /usr/local/lib/python3.6/dist-packages (from fasttext) (1.18.5)\n",
            "Building wheels for collected packages: fasttext\n",
            "  Building wheel for fasttext (setup.py) ... \u001b[?25l\u001b[?25hdone\n",
            "  Created wheel for fasttext: filename=fasttext-0.9.2-cp36-cp36m-linux_x86_64.whl size=3040770 sha256=3422d64f0632d8b58b4f5d5a3302a7cefb6319a19f740e08745061c136490c11\n",
            "  Stored in directory: /root/.cache/pip/wheels/98/ba/7f/b154944a1cf5a8cee91c154b75231136cc3a3321ab0e30f592\n",
            "Successfully built fasttext\n",
            "Installing collected packages: fasttext\n",
            "Successfully installed fasttext-0.9.2\n"
          ],
          "name": "stdout"
        }
      ]
    },
    {
      "cell_type": "code",
      "metadata": {
        "id": "dSUC-am59LKo"
      },
      "source": [
        "import string\n",
        "import re\n",
        "from numpy import array, argmax, random, take\n",
        "import pandas as pd\n",
        "from keras.models import Sequential\n",
        "from keras.layers import Dense, LSTM, Embedding, RepeatVector\n",
        "from keras.preprocessing.text import Tokenizer\n",
        "from keras.callbacks import ModelCheckpoint\n",
        "from keras.preprocessing.sequence import pad_sequences\n",
        "from keras.models import load_model\n",
        "from keras import optimizers\n",
        "from keras import initializers\n",
        "import matplotlib.pyplot as plt\n",
        "%matplotlib inline\n",
        "from numpy import zeros\n",
        "from numpy import asarray\n",
        "import fasttext.util\n",
        "from collections import Counter\n",
        "from keras.utils import to_categorical\n",
        "from keras.callbacks import EarlyStopping\n"
      ],
      "execution_count": 1,
      "outputs": []
    },
    {
      "cell_type": "markdown",
      "metadata": {
        "id": "4PJazD5b1UJY"
      },
      "source": [
        "#Package for Language Identification\n"
      ]
    },
    {
      "cell_type": "code",
      "metadata": {
        "colab": {
          "base_uri": "https://localhost:8080/"
        },
        "id": "B-Ir6HYI9LWR",
        "outputId": "06aea436-6a74-4c37-9997-9c54f53a24d6"
      },
      "source": [
        "!wget https://dl.fbaipublicfiles.com/fasttext/supervised-models/lid.176.bin"
      ],
      "execution_count": 3,
      "outputs": [
        {
          "output_type": "stream",
          "text": [
            "--2020-11-23 21:23:13--  https://dl.fbaipublicfiles.com/fasttext/supervised-models/lid.176.bin\n",
            "Resolving dl.fbaipublicfiles.com (dl.fbaipublicfiles.com)... 104.22.75.142, 104.22.74.142, 172.67.9.4, ...\n",
            "Connecting to dl.fbaipublicfiles.com (dl.fbaipublicfiles.com)|104.22.75.142|:443... connected.\n",
            "HTTP request sent, awaiting response... 200 OK\n",
            "Length: 131266198 (125M) [application/octet-stream]\n",
            "Saving to: ‘lid.176.bin’\n",
            "\n",
            "lid.176.bin         100%[===================>] 125.18M  50.5MB/s    in 2.5s    \n",
            "\n",
            "2020-11-23 21:23:16 (50.5 MB/s) - ‘lid.176.bin’ saved [131266198/131266198]\n",
            "\n"
          ],
          "name": "stdout"
        }
      ]
    },
    {
      "cell_type": "markdown",
      "metadata": {
        "id": "k72KzYQn40qF"
      },
      "source": [
        "#French and Haitain Word Embedding"
      ]
    },
    {
      "cell_type": "code",
      "metadata": {
        "colab": {
          "base_uri": "https://localhost:8080/"
        },
        "id": "bu5I4WPOCBHx",
        "outputId": "0e790e77-a30b-4284-8984-7a7125b5d1df"
      },
      "source": [
        "#fasttext.util.download_model('fr', if_exists='ignore')\n",
        "ft = fasttext.load_model('cc.fr.300.bin')"
      ],
      "execution_count": 2,
      "outputs": [
        {
          "output_type": "stream",
          "text": [
            "Warning : `load_model` does not return WordVectorModel or SupervisedModel any more, but a `FastText` object which is very similar.\n"
          ],
          "name": "stderr"
        }
      ]
    },
    {
      "cell_type": "code",
      "metadata": {
        "colab": {
          "base_uri": "https://localhost:8080/"
        },
        "id": "nubQHB3zdLwS",
        "outputId": "9ad26a53-2dc7-4ed2-bac6-9bee2875ddb5"
      },
      "source": [
        "#fasttext.util.download_model('ht', if_exists='ignore')\n",
        "ft_ht = fasttext.load_model('cc.ht.300.bin')"
      ],
      "execution_count": 3,
      "outputs": [
        {
          "output_type": "stream",
          "text": [
            "Warning : `load_model` does not return WordVectorModel or SupervisedModel any more, but a `FastText` object which is very similar.\n"
          ],
          "name": "stderr"
        }
      ]
    },
    {
      "cell_type": "markdown",
      "metadata": {
        "id": "9KfVlGr347kW"
      },
      "source": [
        "#Language Identification"
      ]
    },
    {
      "cell_type": "code",
      "metadata": {
        "colab": {
          "base_uri": "https://localhost:8080/"
        },
        "id": "Vm8NPZ-3C94r",
        "outputId": "98c33c55-ea0e-469d-c0eb-ab129e10fb08"
      },
      "source": [
        "pretrained_lang_model = \"lid.176.bin\"\n",
        "model_language = fasttext.load_model(pretrained_lang_model)"
      ],
      "execution_count": 4,
      "outputs": [
        {
          "output_type": "stream",
          "text": [
            "Warning : `load_model` does not return WordVectorModel or SupervisedModel any more, but a `FastText` object which is very similar.\n"
          ],
          "name": "stderr"
        }
      ]
    },
    {
      "cell_type": "code",
      "metadata": {
        "id": "eVaUKoMh3oAg"
      },
      "source": [
        "def reading_to_dataframe(file):\n",
        "  df = pd.read_csv(file)\n",
        "  df = df.iloc[:,2:4].dropna()\n",
        "  df.reset_index(inplace=True, drop = True)\n",
        "  df['message'] = df['message'].str.lower()\n",
        "  df['original'] = df['original'].str.lower()\n",
        "  return df"
      ],
      "execution_count": 5,
      "outputs": []
    },
    {
      "cell_type": "code",
      "metadata": {
        "colab": {
          "base_uri": "https://localhost:8080/"
        },
        "id": "KmoP5Zzt5au2",
        "outputId": "e0d34158-ffd8-43ae-ef81-0c11b6456594"
      },
      "source": [
        "train_path = \"/content/disaster_response_messages_training.csv\"\n",
        "validation_path = \"/content/disaster_response_messages_validation.csv\"\n",
        "test_path = \"/content/disaster_response_messages_test.csv\"\n",
        "df_train = reading_to_dataframe(train_path)\n",
        "df_validation = reading_to_dataframe(validation_path)\n",
        "df_test = reading_to_dataframe(test_path)"
      ],
      "execution_count": 6,
      "outputs": [
        {
          "output_type": "stream",
          "text": [
            "/usr/local/lib/python3.6/dist-packages/IPython/core/interactiveshell.py:2822: DtypeWarning: Columns (3) have mixed types.Specify dtype option on import or set low_memory=False.\n",
            "  if self.run_code(code, result):\n"
          ],
          "name": "stderr"
        }
      ]
    },
    {
      "cell_type": "code",
      "metadata": {
        "colab": {
          "base_uri": "https://localhost:8080/"
        },
        "id": "T9LPaDWPwjbe",
        "outputId": "fe62d15a-7c44-485a-a224-122a57ad40fa"
      },
      "source": [
        "df = reading_to_dataframe(train_path)\n",
        "df = df.append(df_validation)"
      ],
      "execution_count": 7,
      "outputs": [
        {
          "output_type": "stream",
          "text": [
            "/usr/local/lib/python3.6/dist-packages/IPython/core/interactiveshell.py:2822: DtypeWarning: Columns (3) have mixed types.Specify dtype option on import or set low_memory=False.\n",
            "  if self.run_code(code, result):\n"
          ],
          "name": "stderr"
        }
      ]
    },
    {
      "cell_type": "markdown",
      "metadata": {
        "id": "euh-16ARSL2e"
      },
      "source": [
        "#Language Labelling"
      ]
    },
    {
      "cell_type": "code",
      "metadata": {
        "colab": {
          "base_uri": "https://localhost:8080/"
        },
        "id": "vRtYHw3kRvyO",
        "outputId": "5860f7dd-12c1-498d-d04e-067e4ed59108"
      },
      "source": [
        "list_train = list()\n",
        "for sentence in df_train['original']:\n",
        "  list_train.append(model_language.predict(sentence, k = 2)[0][0])\n",
        "print(Counter(list_train))"
      ],
      "execution_count": 8,
      "outputs": [
        {
          "output_type": "stream",
          "text": [
            "Counter({'__label__fr': 2312, '__label__tl': 1160, '__label__ht': 972, '__label__en': 881, '__label__la': 213, '__label__ro': 205, '__label__hr': 168, '__label__pl': 158, '__label__es': 150, '__label__tr': 131, '__label__de': 127, '__label__ku': 115, '__label__nl': 109, '__label__pms': 104, '__label__wa': 103, '__label__jv': 91, '__label__eo': 88, '__label__br': 87, '__label__cy': 76, '__label__it': 73, '__label__su': 64, '__label__sq': 55, '__label__vi': 55, '__label__ca': 53, '__label__id': 49, '__label__pt': 46, '__label__sw': 43, '__label__war': 41, '__label__sl': 34, '__label__ms': 24, '__label__no': 23, '__label__hu': 20, '__label__ie': 20, '__label__ceb': 19, '__label__io': 18, '__label__sh': 17, '__label__kw': 16, '__label__fi': 14, '__label__fy': 14, '__label__et': 13, '__label__mg': 12, '__label__mt': 12, '__label__gn': 11, '__label__sr': 11, '__label__sv': 11, '__label__ur': 10, '__label__cs': 10, '__label__eu': 10, '__label__bs': 9, '__label__sc': 7, '__label__cbk': 7, '__label__az': 7, '__label__eml': 6, '__label__bcl': 6, '__label__ia': 6, '__label__sco': 5, '__label__lt': 5, '__label__diq': 5, '__label__nds': 5, '__label__ast': 4, '__label__da': 4, '__label__tk': 4, '__label__sk': 3, '__label__lv': 3, '__label__qu': 3, '__label__lb': 3, '__label__ta': 3, '__label__gl': 3, '__label__nap': 3, '__label__is': 3, '__label__lmo': 2, '__label__rm': 2, '__label__jbo': 2, '__label__so': 2, '__label__ilo': 2, '__label__nn': 2, '__label__mrj': 2, '__label__vo': 2, '__label__oc': 2, '__label__af': 2, '__label__dsb': 2, '__label__uz': 2, '__label__gu': 1, '__label__te': 1, '__label__als': 1, '__label__hif': 1, '__label__gv': 1, '__label__or': 1, '__label__th': 1, '__label__li': 1, '__label__an': 1, '__label__gd': 1, '__label__zh': 1, '__label__ko': 1, '__label__mk': 1, '__label__si': 1, '__label__mr': 1})\n"
          ],
          "name": "stdout"
        }
      ]
    },
    {
      "cell_type": "code",
      "metadata": {
        "colab": {
          "base_uri": "https://localhost:8080/"
        },
        "id": "aVNhDGruRv7g",
        "outputId": "897e4ae9-5cbe-463a-91c2-a8a26d56e367"
      },
      "source": [
        "list_validation = list()\n",
        "for sentence in df_validation['original']:\n",
        "  list_validation.append(model_language.predict(sentence, k = 2)[0][0])\n",
        "print(Counter(list_validation))"
      ],
      "execution_count": 9,
      "outputs": [
        {
          "output_type": "stream",
          "text": [
            "Counter({'__label__fr': 287, '__label__tl': 132, '__label__en': 109, '__label__ht': 106, '__label__la': 32, '__label__es': 28, '__label__ro': 24, '__label__tr': 19, '__label__ku': 17, '__label__hr': 16, '__label__pl': 16, '__label__nl': 15, '__label__de': 13, '__label__wa': 13, '__label__it': 11, '__label__su': 11, '__label__sq': 11, '__label__eo': 10, '__label__br': 10, '__label__jv': 9, '__label__pms': 8, '__label__sw': 7, '__label__no': 6, '__label__pt': 6, '__label__id': 5, '__label__sl': 5, '__label__vi': 5, '__label__ca': 5, '__label__kw': 4, '__label__cy': 3, '__label__bcl': 3, '__label__fy': 3, '__label__ms': 3, '__label__cs': 2, '__label__ur': 2, '__label__gl': 2, '__label__eml': 2, '__label__sr': 2, '__label__diq': 2, '__label__so': 1, '__label__mwl': 1, '__label__ceb': 1, '__label__sh': 1, '__label__mg': 1, '__label__cbk': 1, '__label__sc': 1, '__label__gn': 1, '__label__mt': 1, '__label__is': 1, '__label__li': 1, '__label__ilo': 1, '__label__war': 1, '__label__fi': 1, '__label__mrj': 1, '__label__io': 1, '__label__mk': 1, '__label__eu': 1, '__label__hu': 1, '__label__ast': 1, '__label__nn': 1, '__label__sco': 1, '__label__sv': 1})\n"
          ],
          "name": "stdout"
        }
      ]
    },
    {
      "cell_type": "code",
      "metadata": {
        "colab": {
          "base_uri": "https://localhost:8080/"
        },
        "id": "hDER723SRwEL",
        "outputId": "422683ce-d74c-46c2-b828-5f19f568cd14"
      },
      "source": [
        "list_test = list()\n",
        "for sentence in df_test['original']:\n",
        "  list_test.append(model_language.predict(sentence, k = 2)[0][0])\n",
        "print(Counter(list_test))"
      ],
      "execution_count": 10,
      "outputs": [
        {
          "output_type": "stream",
          "text": [
            "Counter({'__label__fr': 281, '__label__tl': 144, '__label__ht': 129, '__label__en': 98, '__label__la': 37, '__label__es': 30, '__label__ro': 25, '__label__hr': 24, '__label__de': 20, '__label__nl': 19, '__label__ku': 14, '__label__br': 14, '__label__pms': 12, '__label__wa': 11, '__label__eo': 11, '__label__su': 11, '__label__pl': 10, '__label__ca': 10, '__label__jv': 9, '__label__tr': 8, '__label__war': 7, '__label__sq': 7, '__label__it': 6, '__label__sw': 5, '__label__id': 5, '__label__vi': 4, '__label__sl': 4, '__label__cy': 4, '__label__ms': 3, '__label__ceb': 3, '__label__oc': 3, '__label__ie': 3, '__label__no': 3, '__label__fi': 3, '__label__gu': 2, '__label__gv': 2, '__label__pt': 2, '__label__gn': 2, '__label__eu': 2, '__label__hu': 2, '__label__fy': 1, '__label__ilo': 1, '__label__tk': 1, '__label__sh': 1, '__label__mg': 1, '__label__sco': 1, '__label__yo': 1, '__label__nds': 1, '__label__bs': 1, '__label__lmo': 1, '__label__mt': 1, '__label__mrj': 1, '__label__qu': 1, '__label__gom': 1, '__label__jbo': 1, '__label__kw': 1, '__label__zh': 1})\n"
          ],
          "name": "stdout"
        }
      ]
    },
    {
      "cell_type": "markdown",
      "metadata": {
        "id": "N0GuGgsqR5cG"
      },
      "source": [
        "Since, the highest number of sentences in the training, validation and test set are in the French and Haitian language, I used the pre trained French and Haitian embedding from fasttext library."
      ]
    },
    {
      "cell_type": "markdown",
      "metadata": {
        "id": "re5dP3Vazo1-"
      },
      "source": [
        "Adding the labels to the Dataframe"
      ]
    },
    {
      "cell_type": "code",
      "metadata": {
        "id": "04T9gjmARwMU"
      },
      "source": [
        "df_train['label'] = list_train\n",
        "df_validation['label'] = list_validation\n",
        "df_test['label'] = list_test"
      ],
      "execution_count": 177,
      "outputs": []
    },
    {
      "cell_type": "markdown",
      "metadata": {
        "id": "OQlsbTixzyJ8"
      },
      "source": [
        "Removed all the other languages from training, validation and test sets apart from French and Haitain."
      ]
    },
    {
      "cell_type": "code",
      "metadata": {
        "id": "VaYuCeD0SR6y"
      },
      "source": [
        "df_train = df_train[(df_train['label'] == \"__label__fr\") | (df_train['label'] == \"__label__tl\")]\n",
        "df_train.reset_index(inplace=True, drop = True)\n",
        "df_validation = df_validation[(df_validation['label'] == \"__label__fr\") | (df_validation['label'] == \"__label__tl\")]\n",
        "df_validation.reset_index(inplace=True, drop = True)\n",
        "df_test = df_test[(df_test['label'] == \"__label__fr\") | (df_test['label'] == \"__label__tl\")]\n",
        "df_test.reset_index(inplace=True, drop = True)"
      ],
      "execution_count": 12,
      "outputs": []
    },
    {
      "cell_type": "code",
      "metadata": {
        "id": "zeMHdt00UZUG"
      },
      "source": [
        "df = df_train\n",
        "df = df.append(df_validation)\n",
        "df.reset_index(inplace=True, drop=True)"
      ],
      "execution_count": 13,
      "outputs": []
    },
    {
      "cell_type": "markdown",
      "metadata": {
        "id": "jNGQvAdF7j0M"
      },
      "source": [
        "#Tokenization of the Data using Keras, removing all the punctuations\n",
        "---"
      ]
    },
    {
      "cell_type": "code",
      "metadata": {
        "id": "leMe9t2p7hy0"
      },
      "source": [
        "def tokenization(lines):\n",
        "  tokenizer = Tokenizer(filters='!\"#$%&()*+,-./:;<=>?@[\\\\]^_`{|}~\\t\\n')\n",
        "  tokenizer.fit_on_texts(lines)\n",
        "  return tokenizer"
      ],
      "execution_count": 14,
      "outputs": []
    },
    {
      "cell_type": "code",
      "metadata": {
        "id": "iZlN6c6BCtTD"
      },
      "source": [
        "tokenizer_message_train = tokenization(df['message'])\n",
        "tokenizer_original_train = tokenization(df['original'])"
      ],
      "execution_count": 15,
      "outputs": []
    },
    {
      "cell_type": "code",
      "metadata": {
        "id": "7uYtWcZS83tA"
      },
      "source": [
        "vocabulary_size_original = len(tokenizer_original_train.word_index) + 1\n",
        "vocabulary_size_message = len(tokenizer_message_train.word_index) + 1\n",
        "max_original_sent_length = df['message'].str.split().str.len().max()\n",
        "max_message_sent_length = df['original'].str.split().str.len().max()"
      ],
      "execution_count": 16,
      "outputs": []
    },
    {
      "cell_type": "code",
      "metadata": {
        "colab": {
          "base_uri": "https://localhost:8080/"
        },
        "id": "g5mBAXku9fCT",
        "outputId": "009ece9d-9def-4a11-f7da-9e1cbc874613"
      },
      "source": [
        "print(\"Max vocabulary length of multi-lingual data :\", vocabulary_size_original)\n",
        "print(\"Max vocabulary length of english data :\", vocabulary_size_message)\n",
        "print(\"Max sentence length of multi-lingual data :\", max_original_sent_length)\n",
        "print(\"Max sentence length of english data :\", max_message_sent_length)"
      ],
      "execution_count": 17,
      "outputs": [
        {
          "output_type": "stream",
          "text": [
            "Max vocabulary length of multi-lingual data : 9222\n",
            "Max vocabulary length of english data : 5947\n",
            "Max sentence length of multi-lingual data : 66\n",
            "Max sentence length of english data : 57\n"
          ],
          "name": "stdout"
        }
      ]
    },
    {
      "cell_type": "markdown",
      "metadata": {
        "id": "EXF4s-biFwQD"
      },
      "source": [
        "#Encoding sequences and padding with zero's\n",
        "\n",
        "---"
      ]
    },
    {
      "cell_type": "code",
      "metadata": {
        "id": "mOPsP_IhBCVP"
      },
      "source": [
        "def encode_sequences(tokenizer, max_length, sentences):\n",
        "  seq = tokenizer.texts_to_sequences(sentences)\n",
        "  seq = pad_sequences(seq, maxlen=max_length, padding='post')\n",
        "  return seq"
      ],
      "execution_count": 18,
      "outputs": []
    },
    {
      "cell_type": "code",
      "metadata": {
        "id": "4d3pwUDsFmuW"
      },
      "source": [
        "encode_message = encode_sequences(tokenizer_message_train, max_message_sent_length, df_train['message'])\n",
        "encode_original = encode_sequences(tokenizer_original_train, max_original_sent_length, df_train['original'])\n",
        "encode_message_validate = encode_sequences(tokenizer_message_train, max_message_sent_length, df_validation['message'])\n",
        "encode_original_validate = encode_sequences(tokenizer_original_train, max_original_sent_length, df_validation['original'])"
      ],
      "execution_count": 19,
      "outputs": []
    },
    {
      "cell_type": "markdown",
      "metadata": {
        "id": "dtgancWqG0E6"
      },
      "source": [
        "#Building Embedded Matrix\n",
        "\n",
        "---\n",
        "\n"
      ]
    },
    {
      "cell_type": "code",
      "metadata": {
        "id": "vd3oj4juG5px"
      },
      "source": [
        "import numpy as np\n",
        "def create_embedded_matrix(embedding_matrix, tokenizer):\n",
        "  for word, index in tokenizer.word_index.items():\n",
        "    embedding_vector = ft.get_word_vector(word)\n",
        "    if np.all(embedding_vector) == 0:\n",
        "      embedded_matrix[index] = ft_ht.get_word_vector(word)\n",
        "      continue\n",
        "    embedding_matrix[index] = embedding_vector\n",
        "  return embedding_matrix"
      ],
      "execution_count": 25,
      "outputs": []
    },
    {
      "cell_type": "code",
      "metadata": {
        "id": "sWpcajwLG5uq"
      },
      "source": [
        "embedded_matrix = zeros((vocabulary_size_original, 300))\n",
        "embedded_matrix = create_embedded_matrix(embedded_matrix, tokenizer_original_train)"
      ],
      "execution_count": 26,
      "outputs": []
    },
    {
      "cell_type": "code",
      "metadata": {
        "colab": {
          "base_uri": "https://localhost:8080/"
        },
        "id": "8LwAFupajV9x",
        "outputId": "03d93d38-a32c-4105-d29a-30be906c539b"
      },
      "source": [
        "embedded_matrix.shape"
      ],
      "execution_count": 72,
      "outputs": [
        {
          "output_type": "execute_result",
          "data": {
            "text/plain": [
              "(9222, 300)"
            ]
          },
          "metadata": {
            "tags": []
          },
          "execution_count": 72
        }
      ]
    },
    {
      "cell_type": "code",
      "metadata": {
        "id": "M-uZ9WIY0iEd"
      },
      "source": [
        "# Deleting the variables\n",
        "del ft\n",
        "del ft_ht"
      ],
      "execution_count": null,
      "outputs": []
    },
    {
      "cell_type": "markdown",
      "metadata": {
        "id": "hzAMLbWaLNN0"
      },
      "source": [
        "#Building the Model\n",
        "\n",
        "---"
      ]
    },
    {
      "cell_type": "code",
      "metadata": {
        "id": "M1MpF7vELGDf"
      },
      "source": [
        "model = Sequential()\n",
        "embedding_dimension = 300\n",
        "embedding_layer = Embedding(vocabulary_size_original, embedding_dimension, weights = [embedded_matrix], input_length=max_original_sent_length\n",
        "                            , trainable = False)"
      ],
      "execution_count": 165,
      "outputs": []
    },
    {
      "cell_type": "code",
      "metadata": {
        "colab": {
          "base_uri": "https://localhost:8080/"
        },
        "id": "F29igR7-MfNF",
        "outputId": "5299e81a-cc27-42a0-852b-a2ec28693782"
      },
      "source": [
        "embedding_layer.get_config()"
      ],
      "execution_count": 159,
      "outputs": [
        {
          "output_type": "execute_result",
          "data": {
            "text/plain": [
              "{'activity_regularizer': None,\n",
              " 'batch_input_shape': (None, 66),\n",
              " 'dtype': 'float32',\n",
              " 'embeddings_constraint': None,\n",
              " 'embeddings_initializer': {'class_name': 'RandomUniform',\n",
              "  'config': {'maxval': 0.05, 'minval': -0.05, 'seed': None}},\n",
              " 'embeddings_regularizer': None,\n",
              " 'input_dim': 9222,\n",
              " 'input_length': 66,\n",
              " 'mask_zero': False,\n",
              " 'name': 'embedding_5',\n",
              " 'output_dim': 300,\n",
              " 'trainable': False}"
            ]
          },
          "metadata": {
            "tags": []
          },
          "execution_count": 159
        }
      ]
    },
    {
      "cell_type": "code",
      "metadata": {
        "id": "CTtAsZ0WPdqy"
      },
      "source": [
        "units = 200\n",
        "model.add(embedding_layer)\n",
        "model.add(LSTM(units))\n",
        "model.add(RepeatVector(max_message_sent_length))\n",
        "model.add(LSTM(units, return_sequences=True))\n",
        "model.add(Dense(vocabulary_size_message, activation='softmax'))\n",
        "rms = optimizers.RMSprop(lr=0.001)\n",
        "model.compile(optimizer=rms, loss='sparse_categorical_crossentropy')"
      ],
      "execution_count": 166,
      "outputs": []
    },
    {
      "cell_type": "code",
      "metadata": {
        "colab": {
          "base_uri": "https://localhost:8080/"
        },
        "id": "XzJYWNngVfcq",
        "outputId": "2c1b2d74-7b1d-43a6-94fd-1907c601dd1b"
      },
      "source": [
        "model.summary()"
      ],
      "execution_count": 167,
      "outputs": [
        {
          "output_type": "stream",
          "text": [
            "Model: \"sequential_6\"\n",
            "_________________________________________________________________\n",
            "Layer (type)                 Output Shape              Param #   \n",
            "=================================================================\n",
            "embedding_6 (Embedding)      (None, 66, 300)           2766600   \n",
            "_________________________________________________________________\n",
            "lstm_13 (LSTM)               (None, 200)               400800    \n",
            "_________________________________________________________________\n",
            "repeat_vector_6 (RepeatVecto (None, 57, 200)           0         \n",
            "_________________________________________________________________\n",
            "lstm_14 (LSTM)               (None, 57, 200)           320800    \n",
            "_________________________________________________________________\n",
            "dense_6 (Dense)              (None, 57, 5947)          1195347   \n",
            "=================================================================\n",
            "Total params: 4,683,547\n",
            "Trainable params: 1,916,947\n",
            "Non-trainable params: 2,766,600\n",
            "_________________________________________________________________\n"
          ],
          "name": "stdout"
        }
      ]
    },
    {
      "cell_type": "code",
      "metadata": {
        "colab": {
          "base_uri": "https://localhost:8080/"
        },
        "id": "NdcDo_gUW2k6",
        "outputId": "44cdd175-f479-4ca9-9e30-0cbe61460be8"
      },
      "source": [
        "# import numpy as np\n",
        "# count = 0\n",
        "# weights = model.layers[0].get_weights()[0]\n",
        "# for i in range(model.layers[0].get_weights()[0].shape[0]):\n",
        "#   if np.all(weights[i]) == 0:\n",
        "#     count += 1\n",
        "# print(count)"
      ],
      "execution_count": 142,
      "outputs": [
        {
          "output_type": "stream",
          "text": [
            "3\n"
          ],
          "name": "stdout"
        }
      ]
    },
    {
      "cell_type": "code",
      "metadata": {
        "id": "XUxt4CxXXzni"
      },
      "source": [
        "filename = 'model_new.h5'\n",
        "checkpoint = ModelCheckpoint(filename, monitor='val_loss', verbose=1, save_best_only=True, mode='min')\n",
        "earlystopping = EarlyStopping(monitor='val_loss', mode = 'min', verbose = 1, patience = 20)"
      ],
      "execution_count": 168,
      "outputs": []
    },
    {
      "cell_type": "code",
      "metadata": {
        "colab": {
          "base_uri": "https://localhost:8080/"
        },
        "id": "60pshLVBX4td",
        "outputId": "63526d38-c889-42b4-fad5-b168f418e6de"
      },
      "source": [
        "history = model.fit(encode_original, encode_message.reshape(encode_message.shape[0], encode_message.shape[1], 1),\n",
        "                    batch_size=64, validation_data=(encode_original_validate, encode_message_validate),\n",
        "        verbose = 1, callbacks = [checkpoint, earlystopping], epochs = 100)"
      ],
      "execution_count": 169,
      "outputs": [
        {
          "output_type": "stream",
          "text": [
            "Epoch 1/100\n",
            "54/55 [============================>.] - ETA: 0s - loss: 2.9261\n",
            "Epoch 00001: val_loss improved from inf to 2.25673, saving model to model_new.h5\n",
            "55/55 [==============================] - 4s 66ms/step - loss: 2.9233 - val_loss: 2.2567\n",
            "Epoch 2/100\n",
            "54/55 [============================>.] - ETA: 0s - loss: 2.1964\n",
            "Epoch 00002: val_loss improved from 2.25673 to 2.19951, saving model to model_new.h5\n",
            "55/55 [==============================] - 3s 55ms/step - loss: 2.1953 - val_loss: 2.1995\n",
            "Epoch 3/100\n",
            "54/55 [============================>.] - ETA: 0s - loss: 2.1468\n",
            "Epoch 00003: val_loss did not improve from 2.19951\n",
            "55/55 [==============================] - 3s 53ms/step - loss: 2.1476 - val_loss: 2.2369\n",
            "Epoch 4/100\n",
            "54/55 [============================>.] - ETA: 0s - loss: 2.1225\n",
            "Epoch 00004: val_loss did not improve from 2.19951\n",
            "55/55 [==============================] - 3s 53ms/step - loss: 2.1235 - val_loss: 2.2023\n",
            "Epoch 5/100\n",
            "54/55 [============================>.] - ETA: 0s - loss: 2.1047\n",
            "Epoch 00005: val_loss improved from 2.19951 to 2.18133, saving model to model_new.h5\n",
            "55/55 [==============================] - 3s 54ms/step - loss: 2.1069 - val_loss: 2.1813\n",
            "Epoch 6/100\n",
            "54/55 [============================>.] - ETA: 0s - loss: 2.0978\n",
            "Epoch 00006: val_loss improved from 2.18133 to 2.16040, saving model to model_new.h5\n",
            "55/55 [==============================] - 3s 54ms/step - loss: 2.0963 - val_loss: 2.1604\n",
            "Epoch 7/100\n",
            "54/55 [============================>.] - ETA: 0s - loss: 2.0890\n",
            "Epoch 00007: val_loss improved from 2.16040 to 2.15155, saving model to model_new.h5\n",
            "55/55 [==============================] - 3s 55ms/step - loss: 2.0885 - val_loss: 2.1516\n",
            "Epoch 8/100\n",
            "54/55 [============================>.] - ETA: 0s - loss: 2.0782\n",
            "Epoch 00008: val_loss did not improve from 2.15155\n",
            "55/55 [==============================] - 3s 53ms/step - loss: 2.0769 - val_loss: 2.1704\n",
            "Epoch 9/100\n",
            "54/55 [============================>.] - ETA: 0s - loss: 2.0731\n",
            "Epoch 00009: val_loss did not improve from 2.15155\n",
            "55/55 [==============================] - 3s 53ms/step - loss: 2.0751 - val_loss: 2.1681\n",
            "Epoch 10/100\n",
            "54/55 [============================>.] - ETA: 0s - loss: 2.0649\n",
            "Epoch 00010: val_loss improved from 2.15155 to 2.14197, saving model to model_new.h5\n",
            "55/55 [==============================] - 3s 55ms/step - loss: 2.0659 - val_loss: 2.1420\n",
            "Epoch 11/100\n",
            "54/55 [============================>.] - ETA: 0s - loss: 2.0607\n",
            "Epoch 00011: val_loss did not improve from 2.14197\n",
            "55/55 [==============================] - 3s 53ms/step - loss: 2.0616 - val_loss: 2.1626\n",
            "Epoch 12/100\n",
            "54/55 [============================>.] - ETA: 0s - loss: 2.0581\n",
            "Epoch 00012: val_loss did not improve from 2.14197\n",
            "55/55 [==============================] - 3s 54ms/step - loss: 2.0563 - val_loss: 2.1517\n",
            "Epoch 13/100\n",
            "54/55 [============================>.] - ETA: 0s - loss: 2.0725\n",
            "Epoch 00013: val_loss did not improve from 2.14197\n",
            "55/55 [==============================] - 3s 53ms/step - loss: 2.0743 - val_loss: 2.1605\n",
            "Epoch 14/100\n",
            "54/55 [============================>.] - ETA: 0s - loss: 2.0526\n",
            "Epoch 00014: val_loss did not improve from 2.14197\n",
            "55/55 [==============================] - 3s 53ms/step - loss: 2.0510 - val_loss: 2.1461\n",
            "Epoch 15/100\n",
            "54/55 [============================>.] - ETA: 0s - loss: 2.0490\n",
            "Epoch 00015: val_loss improved from 2.14197 to 2.13703, saving model to model_new.h5\n",
            "55/55 [==============================] - 3s 56ms/step - loss: 2.0484 - val_loss: 2.1370\n",
            "Epoch 16/100\n",
            "54/55 [============================>.] - ETA: 0s - loss: 2.0461\n",
            "Epoch 00016: val_loss did not improve from 2.13703\n",
            "55/55 [==============================] - 3s 54ms/step - loss: 2.0479 - val_loss: 2.1593\n",
            "Epoch 17/100\n",
            "54/55 [============================>.] - ETA: 0s - loss: 2.0469\n",
            "Epoch 00017: val_loss did not improve from 2.13703\n",
            "55/55 [==============================] - 3s 54ms/step - loss: 2.0440 - val_loss: 2.1694\n",
            "Epoch 18/100\n",
            "54/55 [============================>.] - ETA: 0s - loss: 2.0397\n",
            "Epoch 00018: val_loss did not improve from 2.13703\n",
            "55/55 [==============================] - 3s 54ms/step - loss: 2.0411 - val_loss: 2.1482\n",
            "Epoch 19/100\n",
            "54/55 [============================>.] - ETA: 0s - loss: 2.0361\n",
            "Epoch 00019: val_loss did not improve from 2.13703\n",
            "55/55 [==============================] - 3s 53ms/step - loss: 2.0378 - val_loss: 2.1675\n",
            "Epoch 20/100\n",
            "54/55 [============================>.] - ETA: 0s - loss: 2.0354\n",
            "Epoch 00020: val_loss did not improve from 2.13703\n",
            "55/55 [==============================] - 3s 54ms/step - loss: 2.0359 - val_loss: 2.1429\n",
            "Epoch 21/100\n",
            "54/55 [============================>.] - ETA: 0s - loss: 2.0322\n",
            "Epoch 00021: val_loss did not improve from 2.13703\n",
            "55/55 [==============================] - 3s 54ms/step - loss: 2.0346 - val_loss: 2.1510\n",
            "Epoch 22/100\n",
            "54/55 [============================>.] - ETA: 0s - loss: 2.0499\n",
            "Epoch 00022: val_loss did not improve from 2.13703\n",
            "55/55 [==============================] - 3s 54ms/step - loss: 2.0475 - val_loss: 2.1524\n",
            "Epoch 23/100\n",
            "54/55 [============================>.] - ETA: 0s - loss: 2.0555\n",
            "Epoch 00023: val_loss improved from 2.13703 to 2.13468, saving model to model_new.h5\n",
            "55/55 [==============================] - 3s 56ms/step - loss: 2.0547 - val_loss: 2.1347\n",
            "Epoch 24/100\n",
            "54/55 [============================>.] - ETA: 0s - loss: 2.0553\n",
            "Epoch 00024: val_loss improved from 2.13468 to 2.11917, saving model to model_new.h5\n",
            "55/55 [==============================] - 3s 56ms/step - loss: 2.0548 - val_loss: 2.1192\n",
            "Epoch 25/100\n",
            "54/55 [============================>.] - ETA: 0s - loss: 1.9898\n",
            "Epoch 00025: val_loss improved from 2.11917 to 2.06851, saving model to model_new.h5\n",
            "55/55 [==============================] - 3s 56ms/step - loss: 1.9899 - val_loss: 2.0685\n",
            "Epoch 26/100\n",
            "54/55 [============================>.] - ETA: 0s - loss: 1.9479\n",
            "Epoch 00026: val_loss did not improve from 2.06851\n",
            "55/55 [==============================] - 3s 54ms/step - loss: 1.9504 - val_loss: 2.2212\n",
            "Epoch 27/100\n",
            "54/55 [============================>.] - ETA: 0s - loss: 1.9296\n",
            "Epoch 00027: val_loss improved from 2.06851 to 2.06211, saving model to model_new.h5\n",
            "55/55 [==============================] - 3s 56ms/step - loss: 1.9300 - val_loss: 2.0621\n",
            "Epoch 28/100\n",
            "54/55 [============================>.] - ETA: 0s - loss: 1.9204\n",
            "Epoch 00028: val_loss did not improve from 2.06211\n",
            "55/55 [==============================] - 3s 54ms/step - loss: 1.9194 - val_loss: 2.0636\n",
            "Epoch 29/100\n",
            "54/55 [============================>.] - ETA: 0s - loss: 1.9069\n",
            "Epoch 00029: val_loss did not improve from 2.06211\n",
            "55/55 [==============================] - 3s 54ms/step - loss: 1.9061 - val_loss: 2.1090\n",
            "Epoch 30/100\n",
            "54/55 [============================>.] - ETA: 0s - loss: 1.8994\n",
            "Epoch 00030: val_loss improved from 2.06211 to 2.06170, saving model to model_new.h5\n",
            "55/55 [==============================] - 3s 56ms/step - loss: 1.8983 - val_loss: 2.0617\n",
            "Epoch 31/100\n",
            "54/55 [============================>.] - ETA: 0s - loss: 1.8848\n",
            "Epoch 00031: val_loss did not improve from 2.06170\n",
            "55/55 [==============================] - 3s 54ms/step - loss: 1.8877 - val_loss: 2.1067\n",
            "Epoch 32/100\n",
            "54/55 [============================>.] - ETA: 0s - loss: 1.8788\n",
            "Epoch 00032: val_loss did not improve from 2.06170\n",
            "55/55 [==============================] - 3s 54ms/step - loss: 1.8812 - val_loss: 2.2310\n",
            "Epoch 33/100\n",
            "54/55 [============================>.] - ETA: 0s - loss: 1.8760\n",
            "Epoch 00033: val_loss did not improve from 2.06170\n",
            "55/55 [==============================] - 3s 54ms/step - loss: 1.8755 - val_loss: 2.0825\n",
            "Epoch 34/100\n",
            "54/55 [============================>.] - ETA: 0s - loss: 1.8725\n",
            "Epoch 00034: val_loss did not improve from 2.06170\n",
            "55/55 [==============================] - 3s 55ms/step - loss: 1.8712 - val_loss: 2.0972\n",
            "Epoch 35/100\n",
            "54/55 [============================>.] - ETA: 0s - loss: 1.8674\n",
            "Epoch 00035: val_loss did not improve from 2.06170\n",
            "55/55 [==============================] - 3s 55ms/step - loss: 1.8676 - val_loss: 2.0644\n",
            "Epoch 36/100\n",
            "54/55 [============================>.] - ETA: 0s - loss: 1.8541\n",
            "Epoch 00036: val_loss did not improve from 2.06170\n",
            "55/55 [==============================] - 3s 54ms/step - loss: 1.8563 - val_loss: 2.1007\n",
            "Epoch 37/100\n",
            "54/55 [============================>.] - ETA: 0s - loss: 1.8728\n",
            "Epoch 00037: val_loss did not improve from 2.06170\n",
            "55/55 [==============================] - 3s 55ms/step - loss: 1.8715 - val_loss: 2.1001\n",
            "Epoch 38/100\n",
            "54/55 [============================>.] - ETA: 0s - loss: 1.8487\n",
            "Epoch 00038: val_loss did not improve from 2.06170\n",
            "55/55 [==============================] - 3s 55ms/step - loss: 1.8501 - val_loss: 2.1331\n",
            "Epoch 39/100\n",
            "54/55 [============================>.] - ETA: 0s - loss: 1.8458\n",
            "Epoch 00039: val_loss did not improve from 2.06170\n",
            "55/55 [==============================] - 3s 55ms/step - loss: 1.8465 - val_loss: 2.1031\n",
            "Epoch 40/100\n",
            "54/55 [============================>.] - ETA: 0s - loss: 1.8528\n",
            "Epoch 00040: val_loss did not improve from 2.06170\n",
            "55/55 [==============================] - 3s 55ms/step - loss: 1.8549 - val_loss: 2.1098\n",
            "Epoch 41/100\n",
            "54/55 [============================>.] - ETA: 0s - loss: 1.8328\n",
            "Epoch 00041: val_loss did not improve from 2.06170\n",
            "55/55 [==============================] - 3s 55ms/step - loss: 1.8335 - val_loss: 2.0849\n",
            "Epoch 42/100\n",
            "54/55 [============================>.] - ETA: 0s - loss: 1.8335\n",
            "Epoch 00042: val_loss did not improve from 2.06170\n",
            "55/55 [==============================] - 3s 55ms/step - loss: 1.8334 - val_loss: 2.0882\n",
            "Epoch 43/100\n",
            "54/55 [============================>.] - ETA: 0s - loss: 1.8252\n",
            "Epoch 00043: val_loss did not improve from 2.06170\n",
            "55/55 [==============================] - 3s 55ms/step - loss: 1.8263 - val_loss: 2.0895\n",
            "Epoch 44/100\n",
            "54/55 [============================>.] - ETA: 0s - loss: 1.8211\n",
            "Epoch 00044: val_loss did not improve from 2.06170\n",
            "55/55 [==============================] - 3s 55ms/step - loss: 1.8210 - val_loss: 2.0864\n",
            "Epoch 45/100\n",
            "54/55 [============================>.] - ETA: 0s - loss: 1.8160\n",
            "Epoch 00045: val_loss did not improve from 2.06170\n",
            "55/55 [==============================] - 3s 54ms/step - loss: 1.8170 - val_loss: 2.0923\n",
            "Epoch 46/100\n",
            "54/55 [============================>.] - ETA: 0s - loss: 1.8174\n",
            "Epoch 00046: val_loss did not improve from 2.06170\n",
            "55/55 [==============================] - 3s 54ms/step - loss: 1.8187 - val_loss: 2.0883\n",
            "Epoch 47/100\n",
            "54/55 [============================>.] - ETA: 0s - loss: 1.8090\n",
            "Epoch 00047: val_loss did not improve from 2.06170\n",
            "55/55 [==============================] - 3s 55ms/step - loss: 1.8083 - val_loss: 2.0939\n",
            "Epoch 48/100\n",
            "54/55 [============================>.] - ETA: 0s - loss: 1.8060\n",
            "Epoch 00048: val_loss did not improve from 2.06170\n",
            "55/55 [==============================] - 3s 54ms/step - loss: 1.8067 - val_loss: 2.0982\n",
            "Epoch 49/100\n",
            "54/55 [============================>.] - ETA: 0s - loss: 1.8044\n",
            "Epoch 00049: val_loss did not improve from 2.06170\n",
            "55/55 [==============================] - 3s 54ms/step - loss: 1.8032 - val_loss: 2.1183\n",
            "Epoch 50/100\n",
            "54/55 [============================>.] - ETA: 0s - loss: 1.8119\n",
            "Epoch 00050: val_loss did not improve from 2.06170\n",
            "55/55 [==============================] - 3s 54ms/step - loss: 1.8112 - val_loss: 2.0901\n",
            "Epoch 00050: early stopping\n"
          ],
          "name": "stdout"
        }
      ]
    },
    {
      "cell_type": "code",
      "metadata": {
        "colab": {
          "base_uri": "https://localhost:8080/",
          "height": 279
        },
        "id": "eVyunvl0gB1k",
        "outputId": "a42f7064-9c7f-4c51-d6e2-a658f15494bb"
      },
      "source": [
        "plt.plot(history.history['loss'])\n",
        "plt.plot(history.history['val_loss'])\n",
        "plt.legend(['train','validation'])\n",
        "plt.xlabel(\"Epochs\")\n",
        "plt.ylabel('Loss')\n",
        "plt.show()"
      ],
      "execution_count": 170,
      "outputs": [
        {
          "output_type": "display_data",
          "data": {
            "image/png": "[encoded data removed]",
            "text/plain": [
              "<Figure size 432x288 with 1 Axes>"
            ]
          },
          "metadata": {
            "tags": [],
            "needs_background": "light"
          }
        }
      ]
    },
    {
      "cell_type": "code",
      "metadata": {
        "id": "t8gBHswIre55"
      },
      "source": [
        "model = load_model(filename)"
      ],
      "execution_count": 171,
      "outputs": []
    },
    {
      "cell_type": "code",
      "metadata": {
        "id": "Le_sj3zCqdpF"
      },
      "source": [
        "prediction = model.predict_classes(encode_original_validate)"
      ],
      "execution_count": 172,
      "outputs": []
    },
    {
      "cell_type": "code",
      "metadata": {
        "colab": {
          "base_uri": "https://localhost:8080/"
        },
        "id": "Q4f0nTMtaaFA",
        "outputId": "c39212bb-06bd-44ec-cd52-18fa8605775e"
      },
      "source": [
        "prediction"
      ],
      "execution_count": 173,
      "outputs": [
        {
          "output_type": "execute_result",
          "data": {
            "text/plain": [
              "array([[ 2, 27, 23, ...,  0,  0,  0],\n",
              "       [ 2, 27, 23, ...,  0,  0,  0],\n",
              "       [ 2, 27, 23, ...,  0,  0,  0],\n",
              "       ...,\n",
              "       [ 2, 27, 23, ...,  0,  0,  0],\n",
              "       [ 2, 27, 23, ...,  0,  0,  0],\n",
              "       [ 2, 27, 23, ...,  0,  0,  0]])"
            ]
          },
          "metadata": {
            "tags": []
          },
          "execution_count": 173
        }
      ]
    },
    {
      "cell_type": "code",
      "metadata": {
        "id": "FFbYfr00spHr"
      },
      "source": [
        "def get_word(n, tokenizer):\n",
        "  for word, index in tokenizer.word_index.items():\n",
        "    if index == n:\n",
        "      return word\n",
        "  return None\n",
        "\n",
        "predicted_text = []\n",
        "for line in prediction:\n",
        "  temp = []\n",
        "  for num in range(len(line)):\n",
        "    word = get_word(line[num], tokenizer_message_train)\n",
        "    if num > 0:\n",
        "      if (word == get_word(line[num-1], tokenizer_message_train)) or (word == None):\n",
        "        temp.append('')\n",
        "      else:\n",
        "        temp.append(word)\n",
        "    else:\n",
        "      if (word == None):\n",
        "        #temp.append('')\n",
        "        pass\n",
        "      else:\n",
        "        temp.append(word) \n",
        "  predicted_text.append(' '.join(temp))"
      ],
      "execution_count": 174,
      "outputs": []
    },
    {
      "cell_type": "code",
      "metadata": {
        "colab": {
          "base_uri": "https://localhost:8080/"
        },
        "id": "g0dpx29N3zcL",
        "outputId": "44b14d29-d4cc-446b-c06a-b8b40f9014c8"
      },
      "source": [
        "predicted_text"
      ],
      "execution_count": 175,
      "outputs": [
        {
          "output_type": "execute_result",
          "data": {
            "text/plain": [
              "['i would like to the                                                    ',\n",
              " 'i would like to  the                                                   ',\n",
              " 'i would like to  the                                                   ',\n",
              " 'i need like to  the                                                   ',\n",
              " 'i would like to  the                                                   ',\n",
              " 'i am a to the                                                    ',\n",
              " 'i am a to the                                                    ',\n",
              " 'i am a to the                                                    ',\n",
              " 'i am a to the                                                    ',\n",
              " 'i would like to  the                                                   ',\n",
              " 'i would like to  the                                                   ',\n",
              " 'i would like to  the                                                   ',\n",
              " 'i am a to the                                                    ',\n",
              " 'i would like to  the                                                   ',\n",
              " 'i would like to  the                                                   ',\n",
              " 'i need a to  the                                                   ',\n",
              " 'i am a to the                                                    ',\n",
              " 'i am a to the                                                    ',\n",
              " 'i am a to the                                                    ',\n",
              " 'i need a to  the                                                   ',\n",
              " 'i would like to  the                                                   ',\n",
              " 'i would like to  the                                                   ',\n",
              " 'i would like to  the                                                   ',\n",
              " 'i am a to the                                                    ',\n",
              " 'i am a to the                                                    ',\n",
              " 'i am a to the                                                    ',\n",
              " 'i would like to  the                                                   ',\n",
              " 'i am a to the                                                    ',\n",
              " 'i am a to the                                                    ',\n",
              " 'i am a to the                                                    ',\n",
              " 'i would like to  the                                                   ',\n",
              " 'i need a to  the                                                   ',\n",
              " 'i am a to the                                                    ',\n",
              " 'i need a to  the                                                   ',\n",
              " 'i would like to  the                                                   ',\n",
              " 'i would like to  the                                                   ',\n",
              " 'i am a to the                                                    ',\n",
              " 'i am a to the                                                    ',\n",
              " 'i am a to the                                                    ',\n",
              " 'i am a to the                                                    ',\n",
              " 'i would like to  the                                                   ',\n",
              " 'i would like to  the                                                   ',\n",
              " 'i am a to the                                                    ',\n",
              " 'i would like to  the                                                   ',\n",
              " 'i would like to  the                                                   ',\n",
              " 'i need a to  the                                                   ',\n",
              " 'i need a to  the                                                   ',\n",
              " 'i am a to the                                                    ',\n",
              " 'i would like to  the                                                   ',\n",
              " 'i am a to the                                                    ',\n",
              " 'i would like to  the                                                   ',\n",
              " 'i am a to the                                                    ',\n",
              " 'i would like to  the                                                   ',\n",
              " 'i would like to  the                                                   ',\n",
              " 'i would like to  the                                                   ',\n",
              " 'i am a to the                                                    ',\n",
              " 'i am a to the                                                    ',\n",
              " 'i need a to  the                                                   ',\n",
              " 'i am a to the                                                    ',\n",
              " 'i would like to  the                                                   ',\n",
              " 'i would like to  the                                                   ',\n",
              " 'i would like to  the                                                   ',\n",
              " 'i need a to  the                                                   ',\n",
              " 'i am a to the                                                    ',\n",
              " 'i am a to the                                                    ',\n",
              " 'i would like to the                                                    ',\n",
              " 'i need a to  the                                                   ',\n",
              " 'i would like to  the                                                   ',\n",
              " 'i would like to  the                                                   ',\n",
              " 'i am a to the                                                    ',\n",
              " 'i am a to the                                                    ',\n",
              " 'i am a to the                                                    ',\n",
              " 'i would like to the                                                    ',\n",
              " 'i would like to the                                                    ',\n",
              " 'i would like to  the                                                   ',\n",
              " 'i am a to the                                                    ',\n",
              " 'i would like to the                                                    ',\n",
              " 'i am a to the                                                    ',\n",
              " 'i would like to  the                                                   ',\n",
              " 'i need like to  the                                                   ',\n",
              " 'i am a to the                                                    ',\n",
              " 'i need a to  the                                                   ',\n",
              " 'i am a to the                                                    ',\n",
              " 'i am a to the                                                    ',\n",
              " 'i am a to the                                                    ',\n",
              " 'i need a to  the                                                   ',\n",
              " 'i would like to the                                                    ',\n",
              " 'i need like to  the                                                   ',\n",
              " 'i am a to the                                                    ',\n",
              " 'i would like to  the                                                   ',\n",
              " 'i would like to  the                                                   ',\n",
              " 'i am a to  the                                                   ',\n",
              " 'i need a to  the                                                   ',\n",
              " 'i would like to  the                                                   ',\n",
              " 'i would like to  the                                                   ',\n",
              " 'i would like to  the                                                   ',\n",
              " 'i would like to the                                                    ',\n",
              " 'i would like to  the                                                   ',\n",
              " 'i would like to the                                                    ',\n",
              " 'i need like to  the                                                   ',\n",
              " 'i would like to  the                                                   ',\n",
              " 'i would like to  the                                                   ',\n",
              " 'i am a to the                                                    ',\n",
              " 'i would like to the                                                    ',\n",
              " 'i would like to  the                                                   ',\n",
              " 'i would like to  the                                                   ',\n",
              " 'i am a to the                                                    ',\n",
              " 'i need a to  the                                                   ',\n",
              " 'i would like to  the                                                   ',\n",
              " 'i would like to  the                                                   ',\n",
              " 'i am a to the                                                    ',\n",
              " 'i would like to  the                                                   ',\n",
              " 'i am a to the                                                    ',\n",
              " 'i am a to the                                                    ',\n",
              " 'i need a to  the                                                   ',\n",
              " 'i would like to  the                                                   ',\n",
              " 'i would like to  the                                                   ',\n",
              " 'i would like to the                                                    ',\n",
              " 'i am a to the                                                    ',\n",
              " 'i need like to  the                                                   ',\n",
              " 'i would like to  the                                                   ',\n",
              " 'i would like to  the                                                   ',\n",
              " 'i would like to  the                                                   ',\n",
              " 'i would like to  the                                                   ',\n",
              " 'i am a to the                                                    ',\n",
              " 'i would like to the                                                    ',\n",
              " 'i would like to  the                                                   ',\n",
              " 'i need a to  the                                                   ',\n",
              " 'i am a to the                                                    ',\n",
              " 'i would like to  the                                                   ',\n",
              " 'i am a to the                                                    ',\n",
              " 'i am a to the                                                    ',\n",
              " 'i am a to the                                                    ',\n",
              " 'i need a to  the                                                   ',\n",
              " 'i am a to the                                                    ',\n",
              " 'i need a to  the                                                   ',\n",
              " 'i need a to  the                                                   ',\n",
              " 'i am a to the                                                    ',\n",
              " 'i would like to  the                                                   ',\n",
              " 'i am a to the                                                    ',\n",
              " 'i am a to the                                                    ',\n",
              " 'i am a to the                                                    ',\n",
              " 'i am a to the                                                    ',\n",
              " 'i would like to  the                                                   ',\n",
              " 'i am a to the                                                    ',\n",
              " 'i need a to  the                                                   ',\n",
              " 'i need like to  the                                                   ',\n",
              " 'i would like to the                                                    ',\n",
              " 'i need a to  the                                                   ',\n",
              " 'i would like to  the                                                   ',\n",
              " 'i would like to  the                                                   ',\n",
              " 'i need a to  the                                                   ',\n",
              " 'i would like to  the                                                   ',\n",
              " 'i would like to  the                                                   ',\n",
              " 'i would like to  the                                                   ',\n",
              " 'i am a to the                                                    ',\n",
              " 'i am a to the                                                    ',\n",
              " 'i would like to  the                                                   ',\n",
              " 'i would like to  the                                                   ',\n",
              " 'i would like to  the                                                   ',\n",
              " 'i am a to the                                                    ',\n",
              " 'i need a to  the                                                   ',\n",
              " 'i am a to the                                                    ',\n",
              " 'i need a to  the                                                   ',\n",
              " 'i need a to  the                                                   ',\n",
              " 'i am a to the                                                    ',\n",
              " 'i am a to the                                                    ',\n",
              " 'i need a to  the                                                   ',\n",
              " 'i am a to the                                                    ',\n",
              " 'i would like to  the                                                   ',\n",
              " 'i would like to  the                                                   ',\n",
              " 'i am a to the                                                    ',\n",
              " 'i need like to  the                                                   ',\n",
              " 'i would like to  the                                                   ',\n",
              " 'i would like to  the                                                   ',\n",
              " 'i would like to  the                                                   ',\n",
              " 'i would like to  the                                                   ',\n",
              " 'i would like to  the                                                   ',\n",
              " 'i need a to  the                                                   ',\n",
              " 'i am a to the                                                    ',\n",
              " 'i would like to the                                                    ',\n",
              " 'i would like to  the                                                   ',\n",
              " 'i would like to  the                                                   ',\n",
              " 'i need a to  the                                                   ',\n",
              " 'i would like to  the                                                   ',\n",
              " 'i would like to  the                                                   ',\n",
              " 'i need a to  the                                                   ',\n",
              " 'i would like to  the                                                   ',\n",
              " 'i need like to  the                                                   ',\n",
              " 'i would like to  the                                                   ',\n",
              " 'i would like to the                                                    ',\n",
              " 'i need a to  the                                                   ',\n",
              " 'i need a to  the                                                   ',\n",
              " 'i need a to  the                                                   ',\n",
              " 'i need a to  the                                                   ',\n",
              " 'i need a to  the                                                   ',\n",
              " 'i would like to  the                                                   ',\n",
              " 'i would like to  the                                                   ',\n",
              " 'i am a to the                                                    ',\n",
              " 'i would like to the                                                    ',\n",
              " 'i would like to  the                                                   ',\n",
              " 'i need like to  the                                                   ',\n",
              " 'i am a to  the                                                   ',\n",
              " 'i would like to  the                                                   ',\n",
              " 'i would like to the                                                    ',\n",
              " 'i would like to  the                                                   ',\n",
              " 'i need like to  the                                                   ',\n",
              " 'i would like to  the                                                   ',\n",
              " 'i would like to  the                                                   ',\n",
              " 'i am a to  the                                                   ',\n",
              " 'i need a to  the                                                   ',\n",
              " 'i would like to  the                                                   ',\n",
              " 'i would like to  the                                                   ',\n",
              " 'i would like to  the                                                   ',\n",
              " 'i need a to  the                                                   ',\n",
              " 'i would like to the                                                    ',\n",
              " 'i would like to the                                                    ',\n",
              " 'i would like to  the                                                   ',\n",
              " 'i would like to  the                                                   ',\n",
              " 'i need a to  the                                                   ',\n",
              " 'i need like to  the                                                   ',\n",
              " 'i would like to  the                                                   ',\n",
              " 'i need a to  the                                                   ',\n",
              " 'i need a to  the                                                   ',\n",
              " 'i would like to  the                                                   ',\n",
              " 'i am a to the                                                    ',\n",
              " 'i am a to the                                                    ',\n",
              " 'i would like to the                                                    ',\n",
              " 'i am a to  the                                                   ',\n",
              " 'i would like to  the                                                   ',\n",
              " 'i would like to  the                                                   ',\n",
              " 'i would like to  the                                                   ',\n",
              " 'i would like to  the                                                   ',\n",
              " 'i would like to the                                                    ',\n",
              " 'i would like to the                                                    ',\n",
              " 'i would like to the                                                    ',\n",
              " 'i would like to the                                                    ',\n",
              " 'i am a to the                                                    ',\n",
              " 'i am a to the                                                    ',\n",
              " 'i am a to the                                                    ',\n",
              " 'i would like to  the                                                   ',\n",
              " 'i would like to  the                                                   ',\n",
              " 'i need like to  the                                                   ',\n",
              " 'i would like to  the                                                   ',\n",
              " 'i need a to  the                                                   ',\n",
              " 'i need like to  the                                                   ',\n",
              " 'i need a to  the                                                   ',\n",
              " 'i would like to  the                                                   ',\n",
              " 'i am a to the                                                    ',\n",
              " 'i need a to  the                                                   ',\n",
              " 'i would like to  the                                                   ',\n",
              " 'i would like to  the                                                   ',\n",
              " 'i would like to  the                                                   ',\n",
              " 'i would like to  the                                                   ',\n",
              " 'i would like to  the                                                   ',\n",
              " 'i would like to  the                                                   ',\n",
              " 'i would like to  the                                                   ',\n",
              " 'i would like to the                                                    ',\n",
              " 'i need a to  the                                                   ',\n",
              " 'i would like to  the                                                   ',\n",
              " 'i need a to  the                                                   ',\n",
              " 'i need a to  the                                                   ',\n",
              " 'i am a to the                                                    ',\n",
              " 'i would like to the                                                    ',\n",
              " 'i would like to  the                                                   ',\n",
              " 'i would like to  the                                                   ',\n",
              " 'i would like to  the                                                   ',\n",
              " 'i need a to  the                                                   ',\n",
              " 'i would like to the                                                    ',\n",
              " 'i need a to  the                                                   ',\n",
              " 'i would like to  the                                                   ',\n",
              " 'i would like to the                                                    ',\n",
              " 'i would like to  the                                                   ',\n",
              " 'i would like to  the                                                   ',\n",
              " 'i would like to the                                                    ',\n",
              " 'i would like to  the                                                   ',\n",
              " 'i would like to  the                                                   ',\n",
              " 'i would like to  the                                                   ',\n",
              " 'i am a to the                                                    ',\n",
              " 'i would like to  the                                                   ',\n",
              " 'i am a to the                                                    ',\n",
              " 'i would like to  the                                                   ',\n",
              " 'i would like to  the                                                   ',\n",
              " 'i would like to  the                                                   ',\n",
              " 'i need a to  the                                                   ',\n",
              " 'i need like to  the                                                   ',\n",
              " 'i would like to  the                                                   ',\n",
              " 'i would like to  the                                                   ',\n",
              " 'i would like to  the                                                   ',\n",
              " 'i would like to  the                                                   ',\n",
              " 'i would like to  the                                                   ',\n",
              " 'i need a to  the                                                   ',\n",
              " 'i would like to the                                                    ',\n",
              " 'i would like to  the                                                   ',\n",
              " 'i would like to  the                                                   ',\n",
              " 'i would like to  the                                                   ',\n",
              " 'i need like to  the                                                   ',\n",
              " 'i am a to the                                                    ',\n",
              " 'i would like to  the                                                   ',\n",
              " 'i would like to  the                                                   ',\n",
              " 'i am a to the                                                    ',\n",
              " 'i would like to the                                                    ',\n",
              " 'i am a to the                                                    ',\n",
              " 'i would like to the                                                    ',\n",
              " 'i need a to  the                                                   ',\n",
              " 'i would like to  the                                                   ',\n",
              " 'i am a to the                                                    ',\n",
              " 'i would like to  the                                                   ',\n",
              " 'i would like to the                                                    ',\n",
              " 'i would like to  the                                                   ',\n",
              " 'i am a to the                                                    ',\n",
              " 'i would like to  the                                                   ',\n",
              " 'i would like to  the                                                   ',\n",
              " 'i would like to  the                                                   ',\n",
              " 'i am a to the                                                    ',\n",
              " 'i am a to the                                                    ',\n",
              " 'i would like to  the                                                   ',\n",
              " 'i need a to  the                                                   ',\n",
              " 'i would like to  the                                                   ',\n",
              " 'i need like to  the                                                   ',\n",
              " 'i am a to the                                                    ',\n",
              " 'i would like to  the                                                   ',\n",
              " 'i need like to  the                                                   ',\n",
              " 'i need like to  the                                                   ',\n",
              " 'i would like to  the                                                   ',\n",
              " 'i would like to  the                                                   ',\n",
              " 'i am a to the                                                    ',\n",
              " 'i would like to  the                                                   ',\n",
              " 'i am a to  the                                                   ',\n",
              " 'i need like to  the                                                   ',\n",
              " 'i would like to  the                                                   ',\n",
              " 'i am a to the                                                    ',\n",
              " 'i would like to  the                                                   ',\n",
              " 'i need a to  the                                                   ',\n",
              " 'i would like to  the                                                   ',\n",
              " 'i need a to  the                                                   ',\n",
              " 'i would like to  the                                                   ',\n",
              " 'i am a to the                                                    ',\n",
              " 'i am a to the                                                    ',\n",
              " 'i need a to  the                                                   ',\n",
              " 'i would like to  the                                                   ',\n",
              " 'i would like to  the                                                   ',\n",
              " 'i am a to the                                                    ',\n",
              " 'i would like to  the                                                   ',\n",
              " 'i would like to  the                                                   ',\n",
              " 'i need like to  the                                                   ',\n",
              " 'i need like to  the                                                   ',\n",
              " 'i would like to  the                                                   ',\n",
              " 'i am a to the                                                    ',\n",
              " 'i would like to  the                                                   ',\n",
              " 'i am a to the                                                    ',\n",
              " 'i am a to the                                                    ',\n",
              " 'i would like to  the                                                   ',\n",
              " 'i would like to  the                                                   ',\n",
              " 'i am a to the                                                    ',\n",
              " 'i would like to  the                                                   ',\n",
              " 'i need a to  the                                                   ',\n",
              " 'i need like to  the                                                   ',\n",
              " 'i am a to the                                                    ',\n",
              " 'i am a to the                                                    ',\n",
              " 'i would like to the                                                    ',\n",
              " 'i would like to  the                                                   ',\n",
              " 'i would like to  the                                                   ',\n",
              " 'i would like to  the                                                   ',\n",
              " 'i need a to  the                                                   ',\n",
              " 'i would like to  the                                                   ',\n",
              " 'i am a to the                                                    ',\n",
              " 'i am a to the                                                    ',\n",
              " 'i would like to  the                                                   ',\n",
              " 'i am a to the                                                    ',\n",
              " 'i am a to the                                                    ',\n",
              " 'i am a to the                                                    ',\n",
              " 'i am a to the                                                    ',\n",
              " 'i am a to the                                                    ',\n",
              " 'i am a to  the                                                   ',\n",
              " 'i would like to  the                                                   ',\n",
              " 'i would like to  the                                                   ',\n",
              " 'i would like to  the                                                   ',\n",
              " 'i would like to  the                                                   ',\n",
              " 'i would like to  the                                                   ',\n",
              " 'i would like to  the                                                   ',\n",
              " 'i am a to the                                                    ',\n",
              " 'i would like to  the                                                   ',\n",
              " 'i would like to  the                                                   ',\n",
              " 'i need a to  the                                                   ',\n",
              " 'i would like to  the                                                   ',\n",
              " 'i would like to  the                                                   ',\n",
              " 'i need a to  the                                                   ',\n",
              " 'i need a to  the                                                   ',\n",
              " 'i need like to  the                                                   ',\n",
              " 'i would like to  the                                                   ',\n",
              " 'i need a to  the                                                   ',\n",
              " 'i need a to  the                                                   ',\n",
              " 'i would like to  the                                                   ',\n",
              " 'i would like to the                                                    ',\n",
              " 'i would like to  the                                                   ',\n",
              " 'i need a to  the                                                   ',\n",
              " 'i would like to  the                                                   ',\n",
              " 'i would like to  the                                                   ',\n",
              " 'i would like to  the                                                   ',\n",
              " 'i need like to  the                                                   ',\n",
              " 'i would like to the                                                    ',\n",
              " 'i need like to  the                                                   ',\n",
              " 'i need a to  the                                                   ',\n",
              " 'i would like to  the                                                   ',\n",
              " 'i would like to  the                                                   ',\n",
              " 'i need like to  the                                                   ',\n",
              " 'i need a to  the                                                   ',\n",
              " 'i am a to the                                                    ',\n",
              " 'i need like to  the                                                   ',\n",
              " 'i need like to  the                                                   ',\n",
              " 'i would like to  the                                                   ',\n",
              " 'i would like to  the                                                   ',\n",
              " 'i am a to the                                                    ',\n",
              " 'i am a to the                                                    ',\n",
              " 'i would like to  the                                                   ',\n",
              " 'i would like to  the                                                   ',\n",
              " 'i would like to  the                                                   ',\n",
              " 'i would like to the                                                    ']"
            ]
          },
          "metadata": {
            "tags": []
          },
          "execution_count": 175
        }
      ]
    }
  ]
}