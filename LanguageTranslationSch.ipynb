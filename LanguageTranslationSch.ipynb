{
  "nbformat": 4,
  "nbformat_minor": 0,
  "metadata": {
    "colab": {
      "name": "LanguageTranslationSch.ipynb",
      "provenance": [],
      "include_colab_link": true
    },
    "kernelspec": {
      "name": "python3",
      "display_name": "Python 3"
    },
    "accelerator": "GPU"
  },
  "cells": [
    {
      "cell_type": "markdown",
      "metadata": {
        "id": "view-in-github",
        "colab_type": "text"
      },
      "source": [
        "<a href=\"https://colab.research.google.com/github/vadlamani-s/Schneider/blob/main/LanguageTranslationSch.ipynb\" target=\"_parent\"><img src=\"https://colab.research.google.com/assets/colab-badge.svg\" alt=\"Open In Colab\"/></a>"
      ]
    },
    {
      "cell_type": "code",
      "metadata": {
        "colab": {
          "base_uri": "https://localhost:8080/"
        },
        "id": "ZjedieXh8-8i",
        "outputId": "35cc7f7d-3165-45ed-a909-7fe2ccd8014e"
      },
      "source": [
        "pip install fasttext"
      ],
      "execution_count": 1,
      "outputs": [
        {
          "output_type": "stream",
          "text": [
            "Collecting fasttext\n",
            "\u001b[?25l  Downloading https://files.pythonhosted.org/packages/f8/85/e2b368ab6d3528827b147fdb814f8189acc981a4bc2f99ab894650e05c40/fasttext-0.9.2.tar.gz (68kB)\n",
            "\r\u001b[K     |████▊                           | 10kB 20.2MB/s eta 0:00:01\r\u001b[K     |█████████▌                      | 20kB 25.9MB/s eta 0:00:01\r\u001b[K     |██████████████▎                 | 30kB 17.8MB/s eta 0:00:01\r\u001b[K     |███████████████████             | 40kB 12.2MB/s eta 0:00:01\r\u001b[K     |███████████████████████▉        | 51kB 8.7MB/s eta 0:00:01\r\u001b[K     |████████████████████████████▋   | 61kB 9.0MB/s eta 0:00:01\r\u001b[K     |████████████████████████████████| 71kB 5.2MB/s \n",
            "\u001b[?25hRequirement already satisfied: pybind11>=2.2 in /usr/local/lib/python3.6/dist-packages (from fasttext) (2.6.1)\n",
            "Requirement already satisfied: setuptools>=0.7.0 in /usr/local/lib/python3.6/dist-packages (from fasttext) (50.3.2)\n",
            "Requirement already satisfied: numpy in /usr/local/lib/python3.6/dist-packages (from fasttext) (1.18.5)\n",
            "Building wheels for collected packages: fasttext\n",
            "  Building wheel for fasttext (setup.py) ... \u001b[?25l\u001b[?25hdone\n",
            "  Created wheel for fasttext: filename=fasttext-0.9.2-cp36-cp36m-linux_x86_64.whl size=3040770 sha256=3422d64f0632d8b58b4f5d5a3302a7cefb6319a19f740e08745061c136490c11\n",
            "  Stored in directory: /root/.cache/pip/wheels/98/ba/7f/b154944a1cf5a8cee91c154b75231136cc3a3321ab0e30f592\n",
            "Successfully built fasttext\n",
            "Installing collected packages: fasttext\n",
            "Successfully installed fasttext-0.9.2\n"
          ],
          "name": "stdout"
        }
      ]
    },
    {
      "cell_type": "code",
      "metadata": {
        "id": "dSUC-am59LKo"
      },
      "source": [
        "import string\n",
        "import re\n",
        "from numpy import array, argmax, random, take\n",
        "import pandas as pd\n",
        "from keras.models import Sequential\n",
        "from keras.layers import Dense, LSTM, Embedding, RepeatVector\n",
        "from keras.preprocessing.text import Tokenizer\n",
        "from keras.callbacks import ModelCheckpoint\n",
        "from keras.preprocessing.sequence import pad_sequences\n",
        "from keras.models import load_model\n",
        "from keras import optimizers\n",
        "from keras import initializers\n",
        "import matplotlib.pyplot as plt\n",
        "%matplotlib inline\n",
        "from numpy import zeros\n",
        "from numpy import asarray\n",
        "import fasttext.util\n",
        "from collections import Counter\n",
        "from keras.utils import to_categorical\n",
        "from keras.callbacks import EarlyStopping"
      ],
      "execution_count": 80,
      "outputs": []
    },
    {
      "cell_type": "markdown",
      "metadata": {
        "id": "4PJazD5b1UJY"
      },
      "source": [
        "#Package for Language Identification\n"
      ]
    },
    {
      "cell_type": "code",
      "metadata": {
        "colab": {
          "base_uri": "https://localhost:8080/"
        },
        "id": "B-Ir6HYI9LWR",
        "outputId": "06aea436-6a74-4c37-9997-9c54f53a24d6"
      },
      "source": [
        "!wget https://dl.fbaipublicfiles.com/fasttext/supervised-models/lid.176.bin"
      ],
      "execution_count": 3,
      "outputs": [
        {
          "output_type": "stream",
          "text": [
            "--2020-11-23 21:23:13--  https://dl.fbaipublicfiles.com/fasttext/supervised-models/lid.176.bin\n",
            "Resolving dl.fbaipublicfiles.com (dl.fbaipublicfiles.com)... 104.22.75.142, 104.22.74.142, 172.67.9.4, ...\n",
            "Connecting to dl.fbaipublicfiles.com (dl.fbaipublicfiles.com)|104.22.75.142|:443... connected.\n",
            "HTTP request sent, awaiting response... 200 OK\n",
            "Length: 131266198 (125M) [application/octet-stream]\n",
            "Saving to: ‘lid.176.bin’\n",
            "\n",
            "lid.176.bin         100%[===================>] 125.18M  50.5MB/s    in 2.5s    \n",
            "\n",
            "2020-11-23 21:23:16 (50.5 MB/s) - ‘lid.176.bin’ saved [131266198/131266198]\n",
            "\n"
          ],
          "name": "stdout"
        }
      ]
    },
    {
      "cell_type": "markdown",
      "metadata": {
        "id": "k72KzYQn40qF"
      },
      "source": [
        "#French and Haitain Word Embedding"
      ]
    },
    {
      "cell_type": "code",
      "metadata": {
        "colab": {
          "base_uri": "https://localhost:8080/"
        },
        "id": "bu5I4WPOCBHx",
        "outputId": "f5480b3d-7867-435c-a37d-ae86a5fb65f9"
      },
      "source": [
        "#fasttext.util.download_model('fr', if_exists='ignore')\n",
        "ft = fasttext.load_model('cc.fr.300.bin')"
      ],
      "execution_count": 2,
      "outputs": [
        {
          "output_type": "stream",
          "text": [
            "Warning : `load_model` does not return WordVectorModel or SupervisedModel any more, but a `FastText` object which is very similar.\n"
          ],
          "name": "stderr"
        }
      ]
    },
    {
      "cell_type": "code",
      "metadata": {
        "colab": {
          "base_uri": "https://localhost:8080/"
        },
        "id": "nubQHB3zdLwS",
        "outputId": "1723d0f3-53e6-4a21-9eba-bff05128505d"
      },
      "source": [
        "#fasttext.util.download_model('ht', if_exists='ignore')\n",
        "ft_ht = fasttext.load_model('cc.ht.300.bin')"
      ],
      "execution_count": 3,
      "outputs": [
        {
          "output_type": "stream",
          "text": [
            "Warning : `load_model` does not return WordVectorModel or SupervisedModel any more, but a `FastText` object which is very similar.\n"
          ],
          "name": "stderr"
        }
      ]
    },
    {
      "cell_type": "markdown",
      "metadata": {
        "id": "9KfVlGr347kW"
      },
      "source": [
        "#Language Identification"
      ]
    },
    {
      "cell_type": "code",
      "metadata": {
        "colab": {
          "base_uri": "https://localhost:8080/"
        },
        "id": "Vm8NPZ-3C94r",
        "outputId": "6cb74d9f-86ac-4aa0-ab93-8b514122c508"
      },
      "source": [
        "pretrained_lang_model = \"lid.176.bin\"\n",
        "model_language = fasttext.load_model(pretrained_lang_model)"
      ],
      "execution_count": 8,
      "outputs": [
        {
          "output_type": "stream",
          "text": [
            "Warning : `load_model` does not return WordVectorModel or SupervisedModel any more, but a `FastText` object which is very similar.\n"
          ],
          "name": "stderr"
        }
      ]
    },
    {
      "cell_type": "code",
      "metadata": {
        "id": "eVaUKoMh3oAg"
      },
      "source": [
        "def reading_to_dataframe(file):\n",
        "  df = pd.read_csv(file)\n",
        "  df = df.iloc[:,2:4].dropna()\n",
        "  df.reset_index(inplace=True, drop = True)\n",
        "  df['message'] = df['message'].str.lower()\n",
        "  df['original'] = df['original'].str.lower()\n",
        "  return df"
      ],
      "execution_count": 4,
      "outputs": []
    },
    {
      "cell_type": "code",
      "metadata": {
        "colab": {
          "base_uri": "https://localhost:8080/"
        },
        "id": "KmoP5Zzt5au2",
        "outputId": "b9355679-1df3-438f-892c-5284ae35cb51"
      },
      "source": [
        "train_path = \"/content/disaster_response_messages_training.csv\"\n",
        "validation_path = \"/content/disaster_response_messages_validation.csv\"\n",
        "test_path = \"/content/disaster_response_messages_test.csv\"\n",
        "df_train = reading_to_dataframe(train_path)\n",
        "df_validation = reading_to_dataframe(validation_path)\n",
        "df_test = reading_to_dataframe(test_path)"
      ],
      "execution_count": 5,
      "outputs": [
        {
          "output_type": "stream",
          "text": [
            "/usr/local/lib/python3.6/dist-packages/IPython/core/interactiveshell.py:2822: DtypeWarning: Columns (3) have mixed types.Specify dtype option on import or set low_memory=False.\n",
            "  if self.run_code(code, result):\n"
          ],
          "name": "stderr"
        }
      ]
    },
    {
      "cell_type": "code",
      "metadata": {
        "colab": {
          "base_uri": "https://localhost:8080/"
        },
        "id": "T9LPaDWPwjbe",
        "outputId": "f51b848b-649e-4d15-c63c-52054c476051"
      },
      "source": [
        "df = reading_to_dataframe(train_path)\n",
        "df = df.append(df_validation)"
      ],
      "execution_count": 6,
      "outputs": [
        {
          "output_type": "stream",
          "text": [
            "/usr/local/lib/python3.6/dist-packages/IPython/core/interactiveshell.py:2822: DtypeWarning: Columns (3) have mixed types.Specify dtype option on import or set low_memory=False.\n",
            "  if self.run_code(code, result):\n"
          ],
          "name": "stderr"
        }
      ]
    },
    {
      "cell_type": "markdown",
      "metadata": {
        "id": "euh-16ARSL2e"
      },
      "source": [
        "#Language Labelling"
      ]
    },
    {
      "cell_type": "code",
      "metadata": {
        "colab": {
          "base_uri": "https://localhost:8080/"
        },
        "id": "vRtYHw3kRvyO",
        "outputId": "2e07f1da-bfed-4326-c760-08e5f1d2dfc8"
      },
      "source": [
        "list_train = list()\n",
        "for sentence in df_train['original']:\n",
        "  list_train.append(model_language.predict(sentence, k = 2)[0][0])\n",
        "print(Counter(list_train))"
      ],
      "execution_count": 9,
      "outputs": [
        {
          "output_type": "stream",
          "text": [
            "Counter({'__label__fr': 2312, '__label__tl': 1160, '__label__ht': 972, '__label__en': 881, '__label__la': 213, '__label__ro': 205, '__label__hr': 168, '__label__pl': 158, '__label__es': 150, '__label__tr': 131, '__label__de': 127, '__label__ku': 115, '__label__nl': 109, '__label__pms': 104, '__label__wa': 103, '__label__jv': 91, '__label__eo': 88, '__label__br': 87, '__label__cy': 76, '__label__it': 73, '__label__su': 64, '__label__sq': 55, '__label__vi': 55, '__label__ca': 53, '__label__id': 49, '__label__pt': 46, '__label__sw': 43, '__label__war': 41, '__label__sl': 34, '__label__ms': 24, '__label__no': 23, '__label__hu': 20, '__label__ie': 20, '__label__ceb': 19, '__label__io': 18, '__label__sh': 17, '__label__kw': 16, '__label__fi': 14, '__label__fy': 14, '__label__et': 13, '__label__mg': 12, '__label__mt': 12, '__label__gn': 11, '__label__sr': 11, '__label__sv': 11, '__label__ur': 10, '__label__cs': 10, '__label__eu': 10, '__label__bs': 9, '__label__sc': 7, '__label__cbk': 7, '__label__az': 7, '__label__eml': 6, '__label__bcl': 6, '__label__ia': 6, '__label__sco': 5, '__label__lt': 5, '__label__diq': 5, '__label__nds': 5, '__label__ast': 4, '__label__da': 4, '__label__tk': 4, '__label__sk': 3, '__label__lv': 3, '__label__qu': 3, '__label__lb': 3, '__label__ta': 3, '__label__gl': 3, '__label__nap': 3, '__label__is': 3, '__label__lmo': 2, '__label__rm': 2, '__label__jbo': 2, '__label__so': 2, '__label__ilo': 2, '__label__nn': 2, '__label__mrj': 2, '__label__vo': 2, '__label__oc': 2, '__label__af': 2, '__label__dsb': 2, '__label__uz': 2, '__label__gu': 1, '__label__te': 1, '__label__als': 1, '__label__hif': 1, '__label__gv': 1, '__label__or': 1, '__label__th': 1, '__label__li': 1, '__label__an': 1, '__label__gd': 1, '__label__zh': 1, '__label__ko': 1, '__label__mk': 1, '__label__si': 1, '__label__mr': 1})\n"
          ],
          "name": "stdout"
        }
      ]
    },
    {
      "cell_type": "code",
      "metadata": {
        "colab": {
          "base_uri": "https://localhost:8080/"
        },
        "id": "GsW4s_uwWagV",
        "outputId": "ff63907f-6052-4f26-e543-1111706ab6d8"
      },
      "source": [
        "len(Counter(list_train))"
      ],
      "execution_count": 136,
      "outputs": [
        {
          "output_type": "execute_result",
          "data": {
            "text/plain": [
              "97"
            ]
          },
          "metadata": {
            "tags": []
          },
          "execution_count": 136
        }
      ]
    },
    {
      "cell_type": "code",
      "metadata": {
        "colab": {
          "base_uri": "https://localhost:8080/"
        },
        "id": "aVNhDGruRv7g",
        "outputId": "db696df4-2908-4802-de6f-e65dcfea13af"
      },
      "source": [
        "list_validation = list()\n",
        "for sentence in df_validation['original']:\n",
        "  list_validation.append(model_language.predict(sentence, k = 2)[0][0])\n",
        "print(Counter(list_validation))"
      ],
      "execution_count": 10,
      "outputs": [
        {
          "output_type": "stream",
          "text": [
            "Counter({'__label__fr': 287, '__label__tl': 132, '__label__en': 109, '__label__ht': 106, '__label__la': 32, '__label__es': 28, '__label__ro': 24, '__label__tr': 19, '__label__ku': 17, '__label__hr': 16, '__label__pl': 16, '__label__nl': 15, '__label__de': 13, '__label__wa': 13, '__label__it': 11, '__label__su': 11, '__label__sq': 11, '__label__eo': 10, '__label__br': 10, '__label__jv': 9, '__label__pms': 8, '__label__sw': 7, '__label__no': 6, '__label__pt': 6, '__label__id': 5, '__label__sl': 5, '__label__vi': 5, '__label__ca': 5, '__label__kw': 4, '__label__cy': 3, '__label__bcl': 3, '__label__fy': 3, '__label__ms': 3, '__label__cs': 2, '__label__ur': 2, '__label__gl': 2, '__label__eml': 2, '__label__sr': 2, '__label__diq': 2, '__label__so': 1, '__label__mwl': 1, '__label__ceb': 1, '__label__sh': 1, '__label__mg': 1, '__label__cbk': 1, '__label__sc': 1, '__label__gn': 1, '__label__mt': 1, '__label__is': 1, '__label__li': 1, '__label__ilo': 1, '__label__war': 1, '__label__fi': 1, '__label__mrj': 1, '__label__io': 1, '__label__mk': 1, '__label__eu': 1, '__label__hu': 1, '__label__ast': 1, '__label__nn': 1, '__label__sco': 1, '__label__sv': 1})\n"
          ],
          "name": "stdout"
        }
      ]
    },
    {
      "cell_type": "code",
      "metadata": {
        "colab": {
          "base_uri": "https://localhost:8080/"
        },
        "id": "hDER723SRwEL",
        "outputId": "c4c5180e-3e79-4b58-bcfa-e286773d1395"
      },
      "source": [
        "list_test = list()\n",
        "for sentence in df_test['original']:\n",
        "  list_test.append(model_language.predict(sentence, k = 2)[0][0])\n",
        "print(Counter(list_test))"
      ],
      "execution_count": 11,
      "outputs": [
        {
          "output_type": "stream",
          "text": [
            "Counter({'__label__fr': 281, '__label__tl': 144, '__label__ht': 129, '__label__en': 98, '__label__la': 37, '__label__es': 30, '__label__ro': 25, '__label__hr': 24, '__label__de': 20, '__label__nl': 19, '__label__ku': 14, '__label__br': 14, '__label__pms': 12, '__label__wa': 11, '__label__eo': 11, '__label__su': 11, '__label__pl': 10, '__label__ca': 10, '__label__jv': 9, '__label__tr': 8, '__label__war': 7, '__label__sq': 7, '__label__it': 6, '__label__sw': 5, '__label__id': 5, '__label__vi': 4, '__label__sl': 4, '__label__cy': 4, '__label__ms': 3, '__label__ceb': 3, '__label__oc': 3, '__label__ie': 3, '__label__no': 3, '__label__fi': 3, '__label__gu': 2, '__label__gv': 2, '__label__pt': 2, '__label__gn': 2, '__label__eu': 2, '__label__hu': 2, '__label__fy': 1, '__label__ilo': 1, '__label__tk': 1, '__label__sh': 1, '__label__mg': 1, '__label__sco': 1, '__label__yo': 1, '__label__nds': 1, '__label__bs': 1, '__label__lmo': 1, '__label__mt': 1, '__label__mrj': 1, '__label__qu': 1, '__label__gom': 1, '__label__jbo': 1, '__label__kw': 1, '__label__zh': 1})\n"
          ],
          "name": "stdout"
        }
      ]
    },
    {
      "cell_type": "markdown",
      "metadata": {
        "id": "N0GuGgsqR5cG"
      },
      "source": [
        "Since, the highest number of sentences in the training, validation and test set are in the French and Haitian language, I used the pre trained French and Haitian embedding from fasttext library."
      ]
    },
    {
      "cell_type": "markdown",
      "metadata": {
        "id": "re5dP3Vazo1-"
      },
      "source": [
        "Adding the labels to the Dataframe"
      ]
    },
    {
      "cell_type": "code",
      "metadata": {
        "id": "04T9gjmARwMU"
      },
      "source": [
        "df_train['label'] = list_train\n",
        "df_validation['label'] = list_validation\n",
        "df_test['label'] = list_test"
      ],
      "execution_count": 12,
      "outputs": []
    },
    {
      "cell_type": "markdown",
      "metadata": {
        "id": "OQlsbTixzyJ8"
      },
      "source": [
        "Removed all the other languages from training, validation and test sets apart from French and Haitain."
      ]
    },
    {
      "cell_type": "code",
      "metadata": {
        "id": "VaYuCeD0SR6y"
      },
      "source": [
        "df_train = df_train[(df_train['label'] == \"__label__fr\") | (df_train['label'] == \"__label__tl\") | (df_train['label'] == \"__label__ht\")]\n",
        "df_train.reset_index(inplace=True, drop = True)\n",
        "df_validation = df_validation[(df_validation['label'] == \"__label__fr\") | (df_validation['label'] == \"__label__tl\") | (df_validation['label'] == \"__label__ht\")]\n",
        "df_validation.reset_index(inplace=True, drop = True)\n",
        "df_test = df_test[(df_test['label'] == \"__label__fr\") | (df_test['label'] == \"__label__tl\") | (df_test['label'] == \"__label__ht\")]\n",
        "df_test.reset_index(inplace=True, drop = True)"
      ],
      "execution_count": 107,
      "outputs": []
    },
    {
      "cell_type": "code",
      "metadata": {
        "id": "GGLv32pzP2nw"
      },
      "source": [
        "df_train = df_train.append(df_test)"
      ],
      "execution_count": 108,
      "outputs": []
    },
    {
      "cell_type": "code",
      "metadata": {
        "id": "zeMHdt00UZUG"
      },
      "source": [
        "df = df_train\n",
        "df = df.append(df_validation)\n",
        "df.reset_index(inplace=True, drop=True)"
      ],
      "execution_count": 109,
      "outputs": []
    },
    {
      "cell_type": "markdown",
      "metadata": {
        "id": "jNGQvAdF7j0M"
      },
      "source": [
        "#Tokenization of the Data using Keras, removing all the punctuations\n",
        "---"
      ]
    },
    {
      "cell_type": "code",
      "metadata": {
        "id": "leMe9t2p7hy0"
      },
      "source": [
        "def tokenization(lines):\n",
        "  tokenizer = Tokenizer(filters='!\"#$%&()*+,-./:;<=>?@[\\\\]^_`{|}~\\t\\n')\n",
        "  tokenizer.fit_on_texts(lines)\n",
        "  return tokenizer"
      ],
      "execution_count": 110,
      "outputs": []
    },
    {
      "cell_type": "code",
      "metadata": {
        "id": "iZlN6c6BCtTD"
      },
      "source": [
        "tokenizer_message_train = tokenization(df['message'])\n",
        "tokenizer_original_train = tokenization(df['original'])"
      ],
      "execution_count": 111,
      "outputs": []
    },
    {
      "cell_type": "code",
      "metadata": {
        "id": "7uYtWcZS83tA"
      },
      "source": [
        "vocabulary_size_original = len(tokenizer_original_train.word_index) + 1\n",
        "vocabulary_size_message = len(tokenizer_message_train.word_index) + 1\n",
        "max_original_sent_length = df['message'].str.split().str.len().max()\n",
        "max_message_sent_length = df['original'].str.split().str.len().max()"
      ],
      "execution_count": 112,
      "outputs": []
    },
    {
      "cell_type": "code",
      "metadata": {
        "colab": {
          "base_uri": "https://localhost:8080/"
        },
        "id": "g5mBAXku9fCT",
        "outputId": "76968ee7-d758-4e0c-f40e-0a4321288682"
      },
      "source": [
        "print(\"Max vocabulary length of multi-lingual data :\", vocabulary_size_original)\n",
        "print(\"Max vocabulary length of english data :\", vocabulary_size_message)\n",
        "print(\"Max sentence length of multi-lingual data :\", max_original_sent_length)\n",
        "print(\"Max sentence length of english data :\", max_message_sent_length)"
      ],
      "execution_count": 113,
      "outputs": [
        {
          "output_type": "stream",
          "text": [
            "Max vocabulary length of multi-lingual data : 11246\n",
            "Max vocabulary length of english data : 7567\n",
            "Max sentence length of multi-lingual data : 71\n",
            "Max sentence length of english data : 58\n"
          ],
          "name": "stdout"
        }
      ]
    },
    {
      "cell_type": "markdown",
      "metadata": {
        "id": "EXF4s-biFwQD"
      },
      "source": [
        "#Encoding sequences and padding with zero's\n",
        "\n",
        "---"
      ]
    },
    {
      "cell_type": "code",
      "metadata": {
        "id": "mOPsP_IhBCVP"
      },
      "source": [
        "def encode_sequences(tokenizer, max_length, sentences):\n",
        "  seq = tokenizer.texts_to_sequences(sentences)\n",
        "  seq = pad_sequences(seq, maxlen=max_length, padding='post')\n",
        "  return seq"
      ],
      "execution_count": 114,
      "outputs": []
    },
    {
      "cell_type": "code",
      "metadata": {
        "id": "4d3pwUDsFmuW"
      },
      "source": [
        "encode_message = encode_sequences(tokenizer_message_train, max_message_sent_length, df_train['message'])\n",
        "encode_original = encode_sequences(tokenizer_original_train, max_original_sent_length, df_train['original'])\n",
        "encode_message_validate = encode_sequences(tokenizer_message_train, max_message_sent_length, df_validation['message'])\n",
        "encode_original_validate = encode_sequences(tokenizer_original_train, max_original_sent_length, df_validation['original'])"
      ],
      "execution_count": 115,
      "outputs": []
    },
    {
      "cell_type": "markdown",
      "metadata": {
        "id": "dtgancWqG0E6"
      },
      "source": [
        "#Building Embedded Matrix\n",
        "\n",
        "---\n",
        "\n"
      ]
    },
    {
      "cell_type": "code",
      "metadata": {
        "id": "vd3oj4juG5px"
      },
      "source": [
        "import numpy as np\n",
        "def create_embedded_matrix(embedding_matrix, tokenizer):\n",
        "  for word, index in tokenizer.word_index.items():\n",
        "    embedding_vector = ft.get_word_vector(word)\n",
        "    if np.all(embedding_vector) == 0:\n",
        "      embedded_matrix[index] = ft_ht.get_word_vector(word)\n",
        "      continue\n",
        "    embedding_matrix[index] = embedding_vector\n",
        "  return embedding_matrix"
      ],
      "execution_count": 116,
      "outputs": []
    },
    {
      "cell_type": "code",
      "metadata": {
        "id": "sWpcajwLG5uq"
      },
      "source": [
        "embedded_matrix = zeros((vocabulary_size_original, 300))\n",
        "embedded_matrix = create_embedded_matrix(embedded_matrix, tokenizer_original_train)"
      ],
      "execution_count": 118,
      "outputs": []
    },
    {
      "cell_type": "code",
      "metadata": {
        "colab": {
          "base_uri": "https://localhost:8080/"
        },
        "id": "8LwAFupajV9x",
        "outputId": "55664de4-0fd9-49b5-81c9-347c8ef0eaac"
      },
      "source": [
        "embedded_matrix.shape"
      ],
      "execution_count": 23,
      "outputs": [
        {
          "output_type": "execute_result",
          "data": {
            "text/plain": [
              "(10459, 300)"
            ]
          },
          "metadata": {
            "tags": []
          },
          "execution_count": 23
        }
      ]
    },
    {
      "cell_type": "code",
      "metadata": {
        "id": "M-uZ9WIY0iEd"
      },
      "source": [
        "# Deleting the variables\n",
        "del ft\n",
        "del ft_ht"
      ],
      "execution_count": 24,
      "outputs": []
    },
    {
      "cell_type": "markdown",
      "metadata": {
        "id": "hzAMLbWaLNN0"
      },
      "source": [
        "#Building the Model\n",
        "\n",
        "---"
      ]
    },
    {
      "cell_type": "code",
      "metadata": {
        "id": "M1MpF7vELGDf"
      },
      "source": [
        "## Since a pre-trained embeddings are being used, the embedding layer doesnt have to be trained. \n",
        "model = Sequential()\n",
        "embedding_dimension = 300\n",
        "embedding_layer = Embedding(vocabulary_size_original, embedding_dimension, weights = [embedded_matrix], \n",
        "                            input_length=max_original_sent_length, trainable = False)"
      ],
      "execution_count": 120,
      "outputs": []
    },
    {
      "cell_type": "code",
      "metadata": {
        "id": "CTtAsZ0WPdqy"
      },
      "source": [
        "units = 256\n",
        "model.add(embedding_layer)\n",
        "model.add(LSTM(units))\n",
        "model.add(RepeatVector(max_message_sent_length))\n",
        "model.add(LSTM(units, return_sequences=True))\n",
        "model.add(Dense(vocabulary_size_message, activation='softmax'))\n",
        "rms = optimizers.RMSprop(lr=0.001)\n",
        "model.compile(optimizer=rms, loss='sparse_categorical_crossentropy')"
      ],
      "execution_count": 122,
      "outputs": []
    },
    {
      "cell_type": "code",
      "metadata": {
        "colab": {
          "base_uri": "https://localhost:8080/"
        },
        "id": "XzJYWNngVfcq",
        "outputId": "8c7e7db3-9b58-4063-901a-63988b33ab8e"
      },
      "source": [
        "model.summary()"
      ],
      "execution_count": 123,
      "outputs": [
        {
          "output_type": "stream",
          "text": [
            "Model: \"sequential_6\"\n",
            "_________________________________________________________________\n",
            "Layer (type)                 Output Shape              Param #   \n",
            "=================================================================\n",
            "embedding_6 (Embedding)      (None, 71, 300)           3373800   \n",
            "_________________________________________________________________\n",
            "lstm_10 (LSTM)               (None, 256)               570368    \n",
            "_________________________________________________________________\n",
            "repeat_vector_5 (RepeatVecto (None, 58, 256)           0         \n",
            "_________________________________________________________________\n",
            "lstm_11 (LSTM)               (None, 58, 256)           525312    \n",
            "_________________________________________________________________\n",
            "dense_5 (Dense)              (None, 58, 7567)          1944719   \n",
            "=================================================================\n",
            "Total params: 6,414,199\n",
            "Trainable params: 3,040,399\n",
            "Non-trainable params: 3,373,800\n",
            "_________________________________________________________________\n"
          ],
          "name": "stdout"
        }
      ]
    },
    {
      "cell_type": "code",
      "metadata": {
        "id": "XUxt4CxXXzni"
      },
      "source": [
        "filename = 'model_new.h5'\n",
        "checkpoint = ModelCheckpoint(filename, monitor='val_loss', verbose=1, save_best_only=True, mode='min')\n",
        "earlystopping = EarlyStopping(monitor='val_loss', mode = 'min', verbose = 1, patience = 20)"
      ],
      "execution_count": 124,
      "outputs": []
    },
    {
      "cell_type": "code",
      "metadata": {
        "colab": {
          "base_uri": "https://localhost:8080/"
        },
        "id": "60pshLVBX4td",
        "outputId": "c8edbb34-0868-48dc-918f-e7e0c5d06a5a"
      },
      "source": [
        "history = model.fit(encode_original, encode_message, batch_size=64, validation_data=(encode_original_validate, encode_message_validate),\n",
        "        verbose = 1, callbacks = [checkpoint, earlystopping], epochs = 100)"
      ],
      "execution_count": 125,
      "outputs": [
        {
          "output_type": "stream",
          "text": [
            "Epoch 1/100\n",
            "87/87 [==============================] - ETA: 0s - loss: 2.6669\n",
            "Epoch 00001: val_loss improved from inf to 2.20778, saving model to model_new.h5\n",
            "87/87 [==============================] - 6s 75ms/step - loss: 2.6669 - val_loss: 2.2078\n",
            "Epoch 2/100\n",
            "87/87 [==============================] - ETA: 0s - loss: 2.2409\n",
            "Epoch 00002: val_loss improved from 2.20778 to 2.17344, saving model to model_new.h5\n",
            "87/87 [==============================] - 6s 68ms/step - loss: 2.2409 - val_loss: 2.1734\n",
            "Epoch 3/100\n",
            "87/87 [==============================] - ETA: 0s - loss: 2.2054\n",
            "Epoch 00003: val_loss improved from 2.17344 to 2.16160, saving model to model_new.h5\n",
            "87/87 [==============================] - 6s 68ms/step - loss: 2.2054 - val_loss: 2.1616\n",
            "Epoch 4/100\n",
            "87/87 [==============================] - ETA: 0s - loss: 2.1843\n",
            "Epoch 00004: val_loss improved from 2.16160 to 2.16060, saving model to model_new.h5\n",
            "87/87 [==============================] - 6s 68ms/step - loss: 2.1843 - val_loss: 2.1606\n",
            "Epoch 5/100\n",
            "87/87 [==============================] - ETA: 0s - loss: 2.1704\n",
            "Epoch 00005: val_loss did not improve from 2.16060\n",
            "87/87 [==============================] - 6s 67ms/step - loss: 2.1704 - val_loss: 2.1606\n",
            "Epoch 6/100\n",
            "87/87 [==============================] - ETA: 0s - loss: 2.1642\n",
            "Epoch 00006: val_loss did not improve from 2.16060\n",
            "87/87 [==============================] - 6s 67ms/step - loss: 2.1642 - val_loss: 2.1822\n",
            "Epoch 7/100\n",
            "87/87 [==============================] - ETA: 0s - loss: 2.1588\n",
            "Epoch 00007: val_loss improved from 2.16060 to 2.15292, saving model to model_new.h5\n",
            "87/87 [==============================] - 6s 68ms/step - loss: 2.1588 - val_loss: 2.1529\n",
            "Epoch 8/100\n",
            "87/87 [==============================] - ETA: 0s - loss: 2.1543\n",
            "Epoch 00008: val_loss improved from 2.15292 to 2.14194, saving model to model_new.h5\n",
            "87/87 [==============================] - 6s 69ms/step - loss: 2.1543 - val_loss: 2.1419\n",
            "Epoch 9/100\n",
            "87/87 [==============================] - ETA: 0s - loss: 2.1486\n",
            "Epoch 00009: val_loss did not improve from 2.14194\n",
            "87/87 [==============================] - 6s 68ms/step - loss: 2.1486 - val_loss: 2.1522\n",
            "Epoch 10/100\n",
            "87/87 [==============================] - ETA: 0s - loss: 2.1469\n",
            "Epoch 00010: val_loss improved from 2.14194 to 2.13770, saving model to model_new.h5\n",
            "87/87 [==============================] - 6s 69ms/step - loss: 2.1469 - val_loss: 2.1377\n",
            "Epoch 11/100\n",
            "87/87 [==============================] - ETA: 0s - loss: 2.2181\n",
            "Epoch 00011: val_loss improved from 2.13770 to 2.13082, saving model to model_new.h5\n",
            "87/87 [==============================] - 6s 69ms/step - loss: 2.2181 - val_loss: 2.1308\n",
            "Epoch 12/100\n",
            "87/87 [==============================] - ETA: 0s - loss: 2.1466\n",
            "Epoch 00012: val_loss did not improve from 2.13082\n",
            "87/87 [==============================] - 6s 68ms/step - loss: 2.1466 - val_loss: 2.1448\n",
            "Epoch 13/100\n",
            "87/87 [==============================] - ETA: 0s - loss: 2.1406\n",
            "Epoch 00013: val_loss did not improve from 2.13082\n",
            "87/87 [==============================] - 6s 68ms/step - loss: 2.1406 - val_loss: 2.1435\n",
            "Epoch 14/100\n",
            "87/87 [==============================] - ETA: 0s - loss: 2.1381\n",
            "Epoch 00014: val_loss did not improve from 2.13082\n",
            "87/87 [==============================] - 6s 68ms/step - loss: 2.1381 - val_loss: 2.1713\n",
            "Epoch 15/100\n",
            "87/87 [==============================] - ETA: 0s - loss: 2.1346\n",
            "Epoch 00015: val_loss did not improve from 2.13082\n",
            "87/87 [==============================] - 6s 68ms/step - loss: 2.1346 - val_loss: 2.1425\n",
            "Epoch 16/100\n",
            "87/87 [==============================] - ETA: 0s - loss: 2.1314\n",
            "Epoch 00016: val_loss did not improve from 2.13082\n",
            "87/87 [==============================] - 6s 69ms/step - loss: 2.1314 - val_loss: 2.1600\n",
            "Epoch 17/100\n",
            "87/87 [==============================] - ETA: 0s - loss: 2.1296\n",
            "Epoch 00017: val_loss did not improve from 2.13082\n",
            "87/87 [==============================] - 6s 69ms/step - loss: 2.1296 - val_loss: 2.1615\n",
            "Epoch 18/100\n",
            "87/87 [==============================] - ETA: 0s - loss: 2.1262\n",
            "Epoch 00018: val_loss did not improve from 2.13082\n",
            "87/87 [==============================] - 6s 68ms/step - loss: 2.1262 - val_loss: 2.1632\n",
            "Epoch 19/100\n",
            "87/87 [==============================] - ETA: 0s - loss: 2.1242\n",
            "Epoch 00019: val_loss did not improve from 2.13082\n",
            "87/87 [==============================] - 6s 68ms/step - loss: 2.1242 - val_loss: 2.1737\n",
            "Epoch 20/100\n",
            "87/87 [==============================] - ETA: 0s - loss: 2.1233\n",
            "Epoch 00020: val_loss did not improve from 2.13082\n",
            "87/87 [==============================] - 6s 68ms/step - loss: 2.1233 - val_loss: 2.1457\n",
            "Epoch 21/100\n",
            "87/87 [==============================] - ETA: 0s - loss: 2.1204\n",
            "Epoch 00021: val_loss did not improve from 2.13082\n",
            "87/87 [==============================] - 6s 68ms/step - loss: 2.1204 - val_loss: 2.1531\n",
            "Epoch 22/100\n",
            "87/87 [==============================] - ETA: 0s - loss: 2.1630\n",
            "Epoch 00022: val_loss did not improve from 2.13082\n",
            "87/87 [==============================] - 6s 68ms/step - loss: 2.1630 - val_loss: 2.1530\n",
            "Epoch 23/100\n",
            "87/87 [==============================] - ETA: 0s - loss: 2.1185\n",
            "Epoch 00023: val_loss did not improve from 2.13082\n",
            "87/87 [==============================] - 6s 68ms/step - loss: 2.1185 - val_loss: 2.1672\n",
            "Epoch 24/100\n",
            "87/87 [==============================] - ETA: 0s - loss: 2.1546\n",
            "Epoch 00024: val_loss did not improve from 2.13082\n",
            "87/87 [==============================] - 6s 69ms/step - loss: 2.1546 - val_loss: 2.1504\n",
            "Epoch 25/100\n",
            "87/87 [==============================] - ETA: 0s - loss: 2.3250\n",
            "Epoch 00025: val_loss did not improve from 2.13082\n",
            "87/87 [==============================] - 6s 69ms/step - loss: 2.3250 - val_loss: 2.1790\n",
            "Epoch 26/100\n",
            "87/87 [==============================] - ETA: 0s - loss: 2.1413\n",
            "Epoch 00026: val_loss did not improve from 2.13082\n",
            "87/87 [==============================] - 6s 69ms/step - loss: 2.1413 - val_loss: 2.1483\n",
            "Epoch 27/100\n",
            "87/87 [==============================] - ETA: 0s - loss: 2.1176\n",
            "Epoch 00027: val_loss did not improve from 2.13082\n",
            "87/87 [==============================] - 6s 69ms/step - loss: 2.1176 - val_loss: 2.1420\n",
            "Epoch 28/100\n",
            "87/87 [==============================] - ETA: 0s - loss: 2.1351\n",
            "Epoch 00028: val_loss did not improve from 2.13082\n",
            "87/87 [==============================] - 6s 69ms/step - loss: 2.1351 - val_loss: 2.1445\n",
            "Epoch 29/100\n",
            "87/87 [==============================] - ETA: 0s - loss: 2.1131\n",
            "Epoch 00029: val_loss did not improve from 2.13082\n",
            "87/87 [==============================] - 6s 69ms/step - loss: 2.1131 - val_loss: 2.1554\n",
            "Epoch 30/100\n",
            "87/87 [==============================] - ETA: 0s - loss: 2.1294\n",
            "Epoch 00030: val_loss did not improve from 2.13082\n",
            "87/87 [==============================] - 6s 69ms/step - loss: 2.1294 - val_loss: 2.1554\n",
            "Epoch 31/100\n",
            "87/87 [==============================] - ETA: 0s - loss: 2.1120\n",
            "Epoch 00031: val_loss did not improve from 2.13082\n",
            "87/87 [==============================] - 6s 69ms/step - loss: 2.1120 - val_loss: 2.1677\n",
            "Epoch 00031: early stopping\n"
          ],
          "name": "stdout"
        }
      ]
    },
    {
      "cell_type": "code",
      "metadata": {
        "colab": {
          "base_uri": "https://localhost:8080/",
          "height": 279
        },
        "id": "eVyunvl0gB1k",
        "outputId": "68da906d-22cc-48c3-c6e2-e6c1ab12cb3b"
      },
      "source": [
        "plt.plot(history.history['loss'])\n",
        "plt.plot(history.history['val_loss'])\n",
        "plt.legend(['train','validation'])\n",
        "plt.xlabel(\"Epochs\")\n",
        "plt.ylabel('Loss')\n",
        "plt.show()"
      ],
      "execution_count": 132,
      "outputs": [
        {
          "output_type": "display_data",
          "data": {
            "image/png": "[encoded data removed]",
            "text/plain": [
              "<Figure size 432x288 with 1 Axes>"
            ]
          },
          "metadata": {
            "tags": [],
            "needs_background": "light"
          }
        }
      ]
    },
    {
      "cell_type": "code",
      "metadata": {
        "id": "t8gBHswIre55"
      },
      "source": [
        "model = load_model(\"model.h5\")"
      ],
      "execution_count": 137,
      "outputs": []
    },
    {
      "cell_type": "code",
      "metadata": {
        "id": "Le_sj3zCqdpF",
        "colab": {
          "base_uri": "https://localhost:8080/"
        },
        "outputId": "addc91fa-179b-4712-a8d8-415dd7d0c978"
      },
      "source": [
        "prediction = model.predict_classes(encode_original_validate)"
      ],
      "execution_count": 138,
      "outputs": [
        {
          "output_type": "stream",
          "text": [
            "WARNING:tensorflow:Model was constructed with shape (None, 81) for input Tensor(\"embedding_input_2:0\", shape=(None, 81), dtype=float32), but it was called on an input with incompatible shape (None, 71).\n"
          ],
          "name": "stdout"
        }
      ]
    },
    {
      "cell_type": "code",
      "metadata": {
        "colab": {
          "base_uri": "https://localhost:8080/"
        },
        "id": "Q4f0nTMtaaFA",
        "outputId": "0748268a-10f2-4afd-a905-0c2acd795de2"
      },
      "source": [
        "prediction"
      ],
      "execution_count": 139,
      "outputs": [
        {
          "output_type": "execute_result",
          "data": {
            "text/plain": [
              "array([[  5,  10,   4, ...,   0,   0,   0],\n",
              "       [  5,  10,   1, ...,   0,   0,   0],\n",
              "       [ 69,  11,   1, ...,   0,   0,   0],\n",
              "       ...,\n",
              "       [  2,  18,   1, ...,   0,   0,   0],\n",
              "       [  1, 358, 425, ...,   0,   0,   0],\n",
              "       [ 77,   1,   1, ...,   0,   0,   0]])"
            ]
          },
          "metadata": {
            "tags": []
          },
          "execution_count": 139
        }
      ]
    },
    {
      "cell_type": "markdown",
      "metadata": {
        "id": "BgnPue5CPFpU"
      },
      "source": [
        "# Converting the Output layer to English"
      ]
    },
    {
      "cell_type": "code",
      "metadata": {
        "id": "FFbYfr00spHr"
      },
      "source": [
        "def get_word(n, tokenizer):\n",
        "  for word, index in tokenizer.word_index.items():\n",
        "    if index == n:\n",
        "      return word\n",
        "  return None\n",
        "\n",
        "predicted_text = []\n",
        "for line in prediction:\n",
        "  temp = []\n",
        "  for num in range(len(line)):\n",
        "    word = get_word(line[num], tokenizer_message_train)\n",
        "    if num > 0:\n",
        "      if (word == get_word(line[num-1], tokenizer_message_train)) or (word == None):\n",
        "        temp.append('')\n",
        "      else:\n",
        "        temp.append(word)\n",
        "    else:\n",
        "      if (word == None):\n",
        "        temp.append('')\n",
        "        pass\n",
        "      else:\n",
        "        temp.append(word) \n",
        "  predicted_text.append(' '.join(temp))"
      ],
      "execution_count": 140,
      "outputs": []
    },
    {
      "cell_type": "code",
      "metadata": {
        "id": "Nlp8eUXeg0UE"
      },
      "source": [
        "df_result = pd.DataFrame()\n",
        "df_result['Actual'] = df_validation['message']\n",
        "df_result['predicted'] = predicted_text"
      ],
      "execution_count": 145,
      "outputs": []
    },
    {
      "cell_type": "code",
      "metadata": {
        "id": "dFCUUY0Fh18Y"
      },
      "source": [
        "df_result.to_csv(\"results.csv\")"
      ],
      "execution_count": 150,
      "outputs": []
    },
    {
      "cell_type": "markdown",
      "metadata": {
        "id": "f_18Ip8_SSBs"
      },
      "source": [
        "Results and Conclusion:\n",
        "\n",
        "1. The objective of the problem statement was to develop a language model for translating multi-lingual text to english. The best way to do this is to use an encoder and decoder to build an Seq-Seq model with the help of LSTM's.\n",
        "2. Directly feeding the given training data to the model and building an embedding layer using the training data did not produce good results as any new word which could occur in the test set couldnt be identified by the model and the data vaialble for training was not enough.\n",
        "3. The next approach was to check how many different kinds of languages were present in the training set, since using the pre trained embeddings would solve the above problem. Using the fast text language identication API, I found out that there are around 91 different languages.\n",
        "4. The next step was to use the fasttext's french word embedding's for training the embedding layers for the model, but there was a problem with this method as the word vectors for the other languages were 0 vectors in the matrix. Thus the model wasnt not able to learn enough and gave incorrect results. \n",
        "5. Instead of using only one single language embedding, I used the Hatian embedding too for training the embedding layer. The results were a bit better than what I got previously but there wasnt much of an improvement.\n",
        "6. To improve the results further instead of using all the data in the training set which contained data of all the languages, I filtered the training set with data for only Hatian and French.\n",
        "After filtering out the data for 2 languages only, the numbers of rows reduced close to 3000 which wasnt sufficient enough to develop a good translation model.\n"
      ]
    }
  ]
}