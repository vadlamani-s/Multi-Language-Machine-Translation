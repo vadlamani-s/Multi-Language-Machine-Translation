{
  "nbformat": 4,
  "nbformat_minor": 0,
  "metadata": {
    "colab": {
      "name": "LanguageTranslationSch.ipynb",
      "provenance": [],
      "include_colab_link": true
    },
    "kernelspec": {
      "name": "python3",
      "display_name": "Python 3"
    },
    "accelerator": "GPU"
  },
  "cells": [
    {
      "cell_type": "markdown",
      "metadata": {
        "id": "view-in-github",
        "colab_type": "text"
      },
      "source": [
        "<a href=\"https://colab.research.google.com/github/vadlamani-s/Schneider/blob/main/LanguageTranslationSch.ipynb\" target=\"_parent\"><img src=\"https://colab.research.google.com/assets/colab-badge.svg\" alt=\"Open In Colab\"/></a>"
      ]
    },
    {
      "cell_type": "code",
      "metadata": {
        "colab": {
          "base_uri": "https://localhost:8080/"
        },
        "id": "ZjedieXh8-8i",
        "outputId": "35cc7f7d-3165-45ed-a909-7fe2ccd8014e"
      },
      "source": [
        "pip install fasttext"
      ],
      "execution_count": 1,
      "outputs": [
        {
          "output_type": "stream",
          "text": [
            "Collecting fasttext\n",
            "\u001b[?25l  Downloading https://files.pythonhosted.org/packages/f8/85/e2b368ab6d3528827b147fdb814f8189acc981a4bc2f99ab894650e05c40/fasttext-0.9.2.tar.gz (68kB)\n",
            "\r\u001b[K     |████▊                           | 10kB 20.2MB/s eta 0:00:01\r\u001b[K     |█████████▌                      | 20kB 25.9MB/s eta 0:00:01\r\u001b[K     |██████████████▎                 | 30kB 17.8MB/s eta 0:00:01\r\u001b[K     |███████████████████             | 40kB 12.2MB/s eta 0:00:01\r\u001b[K     |███████████████████████▉        | 51kB 8.7MB/s eta 0:00:01\r\u001b[K     |████████████████████████████▋   | 61kB 9.0MB/s eta 0:00:01\r\u001b[K     |████████████████████████████████| 71kB 5.2MB/s \n",
            "\u001b[?25hRequirement already satisfied: pybind11>=2.2 in /usr/local/lib/python3.6/dist-packages (from fasttext) (2.6.1)\n",
            "Requirement already satisfied: setuptools>=0.7.0 in /usr/local/lib/python3.6/dist-packages (from fasttext) (50.3.2)\n",
            "Requirement already satisfied: numpy in /usr/local/lib/python3.6/dist-packages (from fasttext) (1.18.5)\n",
            "Building wheels for collected packages: fasttext\n",
            "  Building wheel for fasttext (setup.py) ... \u001b[?25l\u001b[?25hdone\n",
            "  Created wheel for fasttext: filename=fasttext-0.9.2-cp36-cp36m-linux_x86_64.whl size=3040770 sha256=3422d64f0632d8b58b4f5d5a3302a7cefb6319a19f740e08745061c136490c11\n",
            "  Stored in directory: /root/.cache/pip/wheels/98/ba/7f/b154944a1cf5a8cee91c154b75231136cc3a3321ab0e30f592\n",
            "Successfully built fasttext\n",
            "Installing collected packages: fasttext\n",
            "Successfully installed fasttext-0.9.2\n"
          ],
          "name": "stdout"
        }
      ]
    },
    {
      "cell_type": "code",
      "metadata": {
        "id": "dSUC-am59LKo"
      },
      "source": [
        "import string\n",
        "import re\n",
        "from numpy import array, argmax, random, take\n",
        "import pandas as pd\n",
        "from keras.models import Sequential\n",
        "from keras.layers import Dense, LSTM, Embedding, RepeatVector\n",
        "from keras.preprocessing.text import Tokenizer\n",
        "from keras.callbacks import ModelCheckpoint\n",
        "from keras.preprocessing.sequence import pad_sequences\n",
        "from keras.models import load_model\n",
        "from keras import optimizers\n",
        "from keras import initializers\n",
        "import matplotlib.pyplot as plt\n",
        "%matplotlib inline\n",
        "from numpy import zeros\n",
        "from numpy import asarray\n",
        "import fasttext.util\n",
        "from collections import Counter\n",
        "from keras.utils import to_categorical\n",
        "from keras.callbacks import EarlyStopping\n"
      ],
      "execution_count": 56,
      "outputs": []
    },
    {
      "cell_type": "markdown",
      "metadata": {
        "id": "4PJazD5b1UJY"
      },
      "source": [
        "Package for Language Identification\n"
      ]
    },
    {
      "cell_type": "code",
      "metadata": {
        "colab": {
          "base_uri": "https://localhost:8080/"
        },
        "id": "B-Ir6HYI9LWR",
        "outputId": "06aea436-6a74-4c37-9997-9c54f53a24d6"
      },
      "source": [
        "!wget https://dl.fbaipublicfiles.com/fasttext/supervised-models/lid.176.bin"
      ],
      "execution_count": 3,
      "outputs": [
        {
          "output_type": "stream",
          "text": [
            "--2020-11-23 21:23:13--  https://dl.fbaipublicfiles.com/fasttext/supervised-models/lid.176.bin\n",
            "Resolving dl.fbaipublicfiles.com (dl.fbaipublicfiles.com)... 104.22.75.142, 104.22.74.142, 172.67.9.4, ...\n",
            "Connecting to dl.fbaipublicfiles.com (dl.fbaipublicfiles.com)|104.22.75.142|:443... connected.\n",
            "HTTP request sent, awaiting response... 200 OK\n",
            "Length: 131266198 (125M) [application/octet-stream]\n",
            "Saving to: ‘lid.176.bin’\n",
            "\n",
            "lid.176.bin         100%[===================>] 125.18M  50.5MB/s    in 2.5s    \n",
            "\n",
            "2020-11-23 21:23:16 (50.5 MB/s) - ‘lid.176.bin’ saved [131266198/131266198]\n",
            "\n"
          ],
          "name": "stdout"
        }
      ]
    },
    {
      "cell_type": "code",
      "metadata": {
        "colab": {
          "base_uri": "https://localhost:8080/"
        },
        "id": "3W5omfOGDLQx",
        "outputId": "d471b786-a840-4ac3-d161-33158609cf3c"
      },
      "source": [
        "#!wget https://raw.githubusercontent.com/jbrownlee/Datasets/master/deu.txt"
      ],
      "execution_count": null,
      "outputs": [
        {
          "output_type": "stream",
          "text": [
            "--2020-11-23 05:14:32--  https://raw.githubusercontent.com/jbrownlee/Datasets/master/deu.txt\n",
            "Resolving raw.githubusercontent.com (raw.githubusercontent.com)... 151.101.0.133, 151.101.64.133, 151.101.128.133, ...\n",
            "Connecting to raw.githubusercontent.com (raw.githubusercontent.com)|151.101.0.133|:443... connected.\n",
            "HTTP request sent, awaiting response... 200 OK\n",
            "Length: 11303014 (11M) [text/plain]\n",
            "Saving to: ‘deu.txt’\n",
            "\n",
            "deu.txt             100%[===================>]  10.78M  --.-KB/s    in 0.07s   \n",
            "\n",
            "2020-11-23 05:14:32 (153 MB/s) - ‘deu.txt’ saved [11303014/11303014]\n",
            "\n"
          ],
          "name": "stdout"
        }
      ]
    },
    {
      "cell_type": "markdown",
      "metadata": {
        "id": "k72KzYQn40qF"
      },
      "source": [
        "French Word Embedding "
      ]
    },
    {
      "cell_type": "code",
      "metadata": {
        "colab": {
          "base_uri": "https://localhost:8080/"
        },
        "id": "bu5I4WPOCBHx",
        "outputId": "aed1377d-30e5-4334-cd92-3fdb606492df"
      },
      "source": [
        "fasttext.util.download_model('fr', if_exists='ignore')\n",
        "ft = fasttext.load_model('cc.fr.300.bin')"
      ],
      "execution_count": 4,
      "outputs": [
        {
          "output_type": "stream",
          "text": [
            "Downloading https://dl.fbaipublicfiles.com/fasttext/vectors-crawl/cc.fr.300.bin.gz\n",
            "\n"
          ],
          "name": "stdout"
        },
        {
          "output_type": "stream",
          "text": [
            "Warning : `load_model` does not return WordVectorModel or SupervisedModel any more, but a `FastText` object which is very similar.\n"
          ],
          "name": "stderr"
        }
      ]
    },
    {
      "cell_type": "markdown",
      "metadata": {
        "id": "9KfVlGr347kW"
      },
      "source": [
        "Language Translation"
      ]
    },
    {
      "cell_type": "code",
      "metadata": {
        "colab": {
          "base_uri": "https://localhost:8080/"
        },
        "id": "Vm8NPZ-3C94r",
        "outputId": "488c9017-c613-4caf-9b8b-e7ac2a4b95f5"
      },
      "source": [
        "pretrained_lang_model = \"lid.176.bin\"\n",
        "model = fasttext.load_model(pretrained_lang_model)"
      ],
      "execution_count": 5,
      "outputs": [
        {
          "output_type": "stream",
          "text": [
            "Warning : `load_model` does not return WordVectorModel or SupervisedModel any more, but a `FastText` object which is very similar.\n"
          ],
          "name": "stderr"
        }
      ]
    },
    {
      "cell_type": "code",
      "metadata": {
        "id": "eVaUKoMh3oAg"
      },
      "source": [
        "def reading_to_dataframe(file):\n",
        "  df = pd.read_csv(file)\n",
        "  df = df.iloc[:,2:4].dropna()\n",
        "  df.reset_index(inplace=True, drop = True)\n",
        "  df['message'] = df['message'].str.lower()\n",
        "  df['original'] = df['original'].str.lower()\n",
        "  return df"
      ],
      "execution_count": 6,
      "outputs": []
    },
    {
      "cell_type": "code",
      "metadata": {
        "colab": {
          "base_uri": "https://localhost:8080/"
        },
        "id": "KmoP5Zzt5au2",
        "outputId": "be385b1d-9e84-40ea-c942-f6d60fdd9747"
      },
      "source": [
        "train_path = \"/content/disaster_response_messages_training.csv\"\n",
        "validation_path = \"/content/disaster_response_messages_validation.csv\"\n",
        "test_path = \"/content/disaster_response_messages_test.csv\"\n",
        "df_train = reading_to_dataframe(train_path)\n",
        "df_validation = reading_to_dataframe(validation_path)\n",
        "df_test = reading_to_dataframe(test_path)"
      ],
      "execution_count": 7,
      "outputs": [
        {
          "output_type": "stream",
          "text": [
            "/usr/local/lib/python3.6/dist-packages/IPython/core/interactiveshell.py:2822: DtypeWarning: Columns (3) have mixed types.Specify dtype option on import or set low_memory=False.\n",
            "  if self.run_code(code, result):\n"
          ],
          "name": "stderr"
        }
      ]
    },
    {
      "cell_type": "code",
      "metadata": {
        "colab": {
          "base_uri": "https://localhost:8080/"
        },
        "id": "T9LPaDWPwjbe",
        "outputId": "532e4068-ad94-4a13-ffa6-94fede97f50e"
      },
      "source": [
        "df = reading_to_dataframe(train_path)\n",
        "df = df.append(df_validation)"
      ],
      "execution_count": 8,
      "outputs": [
        {
          "output_type": "stream",
          "text": [
            "/usr/local/lib/python3.6/dist-packages/IPython/core/interactiveshell.py:2822: DtypeWarning: Columns (3) have mixed types.Specify dtype option on import or set low_memory=False.\n",
            "  if self.run_code(code, result):\n"
          ],
          "name": "stderr"
        }
      ]
    },
    {
      "cell_type": "markdown",
      "metadata": {
        "id": "jNGQvAdF7j0M"
      },
      "source": [
        "Tokenization of the Data using Keras, removing all the punctuations"
      ]
    },
    {
      "cell_type": "code",
      "metadata": {
        "id": "leMe9t2p7hy0"
      },
      "source": [
        "def tokenization(lines):\n",
        "      tokenizer = Tokenizer(filters='!\"#$%&()*+,-./:;<=>?@[\\\\]^_`{|}~\\t\\n')\n",
        "      tokenizer.fit_on_texts(lines)\n",
        "      return tokenizer"
      ],
      "execution_count": 9,
      "outputs": []
    },
    {
      "cell_type": "code",
      "metadata": {
        "id": "iZlN6c6BCtTD"
      },
      "source": [
        "tokenizer_message_train = tokenization(df['message'])\n",
        "tokenizer_original_train = tokenization(df['original'])"
      ],
      "execution_count": 10,
      "outputs": []
    },
    {
      "cell_type": "code",
      "metadata": {
        "id": "7uYtWcZS83tA"
      },
      "source": [
        "vocabulary_size_original = len(tokenizer_original_train.word_index) + 1\n",
        "vocabulary_size_message = len(tokenizer_message_train.word_index) + 1\n",
        "max_original_sent_length = df['message'].str.split().str.len().max()\n",
        "max_message_sent_length = df['original'].str.split().str.len().max()"
      ],
      "execution_count": 11,
      "outputs": []
    },
    {
      "cell_type": "code",
      "metadata": {
        "colab": {
          "base_uri": "https://localhost:8080/"
        },
        "id": "g5mBAXku9fCT",
        "outputId": "9c2a0d49-53d3-4ef1-f6de-5799f27074cc"
      },
      "source": [
        "print(\"Max vocabulary length of multi-lingual data :\", vocabulary_size_original)\n",
        "print(\"Max vocabulary length of english data :\", vocabulary_size_message)\n",
        "print(\"Max sentence length of multi-lingual data :\", max_original_sent_length)\n",
        "print(\"Max sentence length of english data :\", max_message_sent_length)"
      ],
      "execution_count": 12,
      "outputs": [
        {
          "output_type": "stream",
          "text": [
            "Max vocabulary length of multi-lingual data : 15802\n",
            "Max vocabulary length of english data : 10335\n",
            "Max sentence length of multi-lingual data : 81\n",
            "Max sentence length of english data : 60\n"
          ],
          "name": "stdout"
        }
      ]
    },
    {
      "cell_type": "markdown",
      "metadata": {
        "id": "ILJvcW7V-Lpa"
      },
      "source": [
        "Identification of Language"
      ]
    },
    {
      "cell_type": "code",
      "metadata": {
        "colab": {
          "base_uri": "https://localhost:8080/"
        },
        "id": "JFd9w44e-GJh",
        "outputId": "1b03087e-da91-46dd-ee70-c2ec291c8bba"
      },
      "source": [
        "list_train = list()\n",
        "for sentence in df_train['original']:\n",
        "  list_train.append(model.predict(sentence, k = 2)[0][0])\n",
        "print(Counter(list_train))"
      ],
      "execution_count": 13,
      "outputs": [
        {
          "output_type": "stream",
          "text": [
            "Counter({'__label__fr': 2312, '__label__tl': 1160, '__label__ht': 972, '__label__en': 881, '__label__la': 213, '__label__ro': 205, '__label__hr': 168, '__label__pl': 158, '__label__es': 150, '__label__tr': 131, '__label__de': 127, '__label__ku': 115, '__label__nl': 109, '__label__pms': 104, '__label__wa': 103, '__label__jv': 91, '__label__eo': 88, '__label__br': 87, '__label__cy': 76, '__label__it': 73, '__label__su': 64, '__label__sq': 55, '__label__vi': 55, '__label__ca': 53, '__label__id': 49, '__label__pt': 46, '__label__sw': 43, '__label__war': 41, '__label__sl': 34, '__label__ms': 24, '__label__no': 23, '__label__hu': 20, '__label__ie': 20, '__label__ceb': 19, '__label__io': 18, '__label__sh': 17, '__label__kw': 16, '__label__fi': 14, '__label__fy': 14, '__label__et': 13, '__label__mg': 12, '__label__mt': 12, '__label__gn': 11, '__label__sr': 11, '__label__sv': 11, '__label__ur': 10, '__label__cs': 10, '__label__eu': 10, '__label__bs': 9, '__label__sc': 7, '__label__cbk': 7, '__label__az': 7, '__label__eml': 6, '__label__bcl': 6, '__label__ia': 6, '__label__sco': 5, '__label__lt': 5, '__label__diq': 5, '__label__nds': 5, '__label__ast': 4, '__label__da': 4, '__label__tk': 4, '__label__sk': 3, '__label__lv': 3, '__label__qu': 3, '__label__lb': 3, '__label__ta': 3, '__label__gl': 3, '__label__nap': 3, '__label__is': 3, '__label__lmo': 2, '__label__rm': 2, '__label__jbo': 2, '__label__so': 2, '__label__ilo': 2, '__label__nn': 2, '__label__mrj': 2, '__label__vo': 2, '__label__oc': 2, '__label__af': 2, '__label__dsb': 2, '__label__uz': 2, '__label__gu': 1, '__label__te': 1, '__label__als': 1, '__label__hif': 1, '__label__gv': 1, '__label__or': 1, '__label__th': 1, '__label__li': 1, '__label__an': 1, '__label__gd': 1, '__label__zh': 1, '__label__ko': 1, '__label__mk': 1, '__label__si': 1, '__label__mr': 1})\n"
          ],
          "name": "stdout"
        }
      ]
    },
    {
      "cell_type": "code",
      "metadata": {
        "colab": {
          "base_uri": "https://localhost:8080/"
        },
        "id": "1w6-aVm8ADZC",
        "outputId": "52410efa-7721-4aee-e527-d11d0caf8825"
      },
      "source": [
        "list_validation = list()\n",
        "for sentence in df_validation['original']:\n",
        "  list_validation.append(model.predict(sentence, k = 2)[0][0])\n",
        "print(Counter(list_validation))"
      ],
      "execution_count": 14,
      "outputs": [
        {
          "output_type": "stream",
          "text": [
            "Counter({'__label__fr': 287, '__label__tl': 132, '__label__en': 109, '__label__ht': 106, '__label__la': 32, '__label__es': 28, '__label__ro': 24, '__label__tr': 19, '__label__ku': 17, '__label__hr': 16, '__label__pl': 16, '__label__nl': 15, '__label__de': 13, '__label__wa': 13, '__label__it': 11, '__label__su': 11, '__label__sq': 11, '__label__eo': 10, '__label__br': 10, '__label__jv': 9, '__label__pms': 8, '__label__sw': 7, '__label__no': 6, '__label__pt': 6, '__label__id': 5, '__label__sl': 5, '__label__vi': 5, '__label__ca': 5, '__label__kw': 4, '__label__cy': 3, '__label__bcl': 3, '__label__fy': 3, '__label__ms': 3, '__label__cs': 2, '__label__ur': 2, '__label__gl': 2, '__label__eml': 2, '__label__sr': 2, '__label__diq': 2, '__label__so': 1, '__label__mwl': 1, '__label__ceb': 1, '__label__sh': 1, '__label__mg': 1, '__label__cbk': 1, '__label__sc': 1, '__label__gn': 1, '__label__mt': 1, '__label__is': 1, '__label__li': 1, '__label__ilo': 1, '__label__war': 1, '__label__fi': 1, '__label__mrj': 1, '__label__io': 1, '__label__mk': 1, '__label__eu': 1, '__label__hu': 1, '__label__ast': 1, '__label__nn': 1, '__label__sco': 1, '__label__sv': 1})\n"
          ],
          "name": "stdout"
        }
      ]
    },
    {
      "cell_type": "code",
      "metadata": {
        "colab": {
          "base_uri": "https://localhost:8080/"
        },
        "id": "y7PO0IRkAbci",
        "outputId": "3be9ee3e-2cab-452d-85e7-9569c09565f4"
      },
      "source": [
        "list_test = list()\n",
        "for sentence in df_test['original']:\n",
        "  list_test.append(model.predict(sentence, k = 2)[0][0])\n",
        "print(Counter(list_test))"
      ],
      "execution_count": 15,
      "outputs": [
        {
          "output_type": "stream",
          "text": [
            "Counter({'__label__fr': 281, '__label__tl': 144, '__label__ht': 129, '__label__en': 98, '__label__la': 37, '__label__es': 30, '__label__ro': 25, '__label__hr': 24, '__label__de': 20, '__label__nl': 19, '__label__ku': 14, '__label__br': 14, '__label__pms': 12, '__label__wa': 11, '__label__eo': 11, '__label__su': 11, '__label__pl': 10, '__label__ca': 10, '__label__jv': 9, '__label__tr': 8, '__label__war': 7, '__label__sq': 7, '__label__it': 6, '__label__sw': 5, '__label__id': 5, '__label__vi': 4, '__label__sl': 4, '__label__cy': 4, '__label__ms': 3, '__label__ceb': 3, '__label__oc': 3, '__label__ie': 3, '__label__no': 3, '__label__fi': 3, '__label__gu': 2, '__label__gv': 2, '__label__pt': 2, '__label__gn': 2, '__label__eu': 2, '__label__hu': 2, '__label__fy': 1, '__label__ilo': 1, '__label__tk': 1, '__label__sh': 1, '__label__mg': 1, '__label__sco': 1, '__label__yo': 1, '__label__nds': 1, '__label__bs': 1, '__label__lmo': 1, '__label__mt': 1, '__label__mrj': 1, '__label__qu': 1, '__label__gom': 1, '__label__jbo': 1, '__label__kw': 1, '__label__zh': 1})\n"
          ],
          "name": "stdout"
        }
      ]
    },
    {
      "cell_type": "markdown",
      "metadata": {
        "id": "toYqmzVj_Xxs"
      },
      "source": [
        "Since, the highest number of sentences in the training, validation and test set are in the French language, I will using French emebedding for Language translation."
      ]
    },
    {
      "cell_type": "code",
      "metadata": {
        "id": "8SuiRtp3BCCK"
      },
      "source": [
        "df_train['label'] = list_train\n",
        "df_validation['label'] = list_validation\n",
        "df_test['label'] = list_test"
      ],
      "execution_count": 70,
      "outputs": []
    },
    {
      "cell_type": "markdown",
      "metadata": {
        "id": "EXF4s-biFwQD"
      },
      "source": [
        "Encoding sequences and padding with zero's\n",
        "\n",
        "---"
      ]
    },
    {
      "cell_type": "code",
      "metadata": {
        "id": "mOPsP_IhBCVP"
      },
      "source": [
        "def encode_sequences(tokenizer, max_length, sentences):\n",
        "  seq = tokenizer.texts_to_sequences(sentences)\n",
        "  seq = pad_sequences(seq, maxlen=max_length, padding='post')\n",
        "  return seq"
      ],
      "execution_count": 16,
      "outputs": []
    },
    {
      "cell_type": "code",
      "metadata": {
        "id": "4d3pwUDsFmuW"
      },
      "source": [
        "encode_message = encode_sequences(tokenizer_message_train, max_message_sent_length, df_train['message'])\n",
        "encode_original = encode_sequences(tokenizer_original_train, max_original_sent_length, df_train['original'])\n",
        "encode_message_validate = encode_sequences(tokenizer_message_train, max_message_sent_length, df_validation['message'])\n",
        "encode_original_validate = encode_sequences(tokenizer_original_train, max_original_sent_length, df_validation['original'])"
      ],
      "execution_count": 17,
      "outputs": []
    },
    {
      "cell_type": "code",
      "metadata": {
        "id": "Ek8BrdNlknPk"
      },
      "source": [
        "def encode_output(sequences, vocab_size):\n",
        "\tylist = list()\n",
        "\tfor sequence in sequences:\n",
        "\t\tencoded = to_categorical(sequence, num_classes=vocab_size)\n",
        "\t\tylist.append(encoded)\n",
        "\ty = array(ylist)\n",
        "\ty = y.reshape(sequences.shape[0], sequences.shape[1], vocab_size)\n",
        "\treturn y"
      ],
      "execution_count": 18,
      "outputs": []
    },
    {
      "cell_type": "code",
      "metadata": {
        "id": "lmnx3CC5kolP"
      },
      "source": [
        "#encode_message_validate = encode_output(encode_message_validate, vocabulary_size_message)"
      ],
      "execution_count": null,
      "outputs": []
    },
    {
      "cell_type": "code",
      "metadata": {
        "id": "nIOS9oOklgqz"
      },
      "source": [
        "#encode_original_validate = encode_output(encode_original_validate, vocabulary_size_original)"
      ],
      "execution_count": null,
      "outputs": []
    },
    {
      "cell_type": "code",
      "metadata": {
        "colab": {
          "base_uri": "https://localhost:8080/"
        },
        "id": "-GDfK4U8BCjH",
        "outputId": "9cce5407-d0f1-41f1-bc94-bca76e2bb577"
      },
      "source": [
        "encode_message.shape"
      ],
      "execution_count": 19,
      "outputs": [
        {
          "output_type": "execute_result",
          "data": {
            "text/plain": [
              "(8191, 60)"
            ]
          },
          "metadata": {
            "tags": []
          },
          "execution_count": 19
        }
      ]
    },
    {
      "cell_type": "code",
      "metadata": {
        "colab": {
          "base_uri": "https://localhost:8080/"
        },
        "id": "ncT-nwDwGL8K",
        "outputId": "20e9c52d-b49b-46b2-9b21-740b9a17a44e"
      },
      "source": [
        "encode_original.shape"
      ],
      "execution_count": 20,
      "outputs": [
        {
          "output_type": "execute_result",
          "data": {
            "text/plain": [
              "(8191, 81)"
            ]
          },
          "metadata": {
            "tags": []
          },
          "execution_count": 20
        }
      ]
    },
    {
      "cell_type": "code",
      "metadata": {
        "colab": {
          "base_uri": "https://localhost:8080/"
        },
        "id": "fZB9dvhTfWCo",
        "outputId": "1a3feda5-0569-437c-d53b-3b1f00ed6cf0"
      },
      "source": [
        "print(encode_message_validate.shape)\n",
        "print(encode_original_validate.shape)"
      ],
      "execution_count": 21,
      "outputs": [
        {
          "output_type": "stream",
          "text": [
            "(987, 60)\n",
            "(987, 81)\n"
          ],
          "name": "stdout"
        }
      ]
    },
    {
      "cell_type": "markdown",
      "metadata": {
        "id": "dtgancWqG0E6"
      },
      "source": [
        "Building a Embedded Matrix\n",
        "\n",
        "---\n",
        "\n"
      ]
    },
    {
      "cell_type": "code",
      "metadata": {
        "id": "vd3oj4juG5px"
      },
      "source": [
        "def create_embedded_matrix(embedding_matrix, tokenizer):\n",
        "  for word, index in tokenizer.word_index.items():\n",
        "    embedding_vector = ft.get_word_vector(word)\n",
        "    embedding_matrix[index] = embedding_vector\n",
        "  return embedding_matrix"
      ],
      "execution_count": 22,
      "outputs": []
    },
    {
      "cell_type": "code",
      "metadata": {
        "id": "sWpcajwLG5uq"
      },
      "source": [
        "embedded_matrix = zeros((vocabulary_size_original, 300))\n",
        "embedded_matrix = create_embedded_matrix(embedded_matrix, tokenizer_original_train)"
      ],
      "execution_count": 23,
      "outputs": []
    },
    {
      "cell_type": "code",
      "metadata": {
        "colab": {
          "base_uri": "https://localhost:8080/"
        },
        "id": "GW0L58CaaaFc",
        "outputId": "711e1e4d-c49b-4917-8222-7418258a9543"
      },
      "source": [
        "embedded_matrix.shape"
      ],
      "execution_count": 24,
      "outputs": [
        {
          "output_type": "execute_result",
          "data": {
            "text/plain": [
              "(15802, 300)"
            ]
          },
          "metadata": {
            "tags": []
          },
          "execution_count": 24
        }
      ]
    },
    {
      "cell_type": "markdown",
      "metadata": {
        "id": "hzAMLbWaLNN0"
      },
      "source": [
        "Building the Model\n",
        "\n",
        "---"
      ]
    },
    {
      "cell_type": "code",
      "metadata": {
        "id": "M1MpF7vELGDf"
      },
      "source": [
        "model = Sequential()\n",
        "embedding_dimension = 300\n",
        "# embedding_layer = Embedding(vocabulary_size_original, embedding_dimension, embeddings_initializer=initializers.Constant(embedded_matrix),\n",
        "#                             input_length=max_original_sent_length,trainable = False)\n",
        "embedding_layer = Embedding(vocabulary_size_original, embedding_dimension, weights = [embedded_matrix], input_length=max_original_sent_length\n",
        "                            , trainable = False)"
      ],
      "execution_count": 26,
      "outputs": []
    },
    {
      "cell_type": "code",
      "metadata": {
        "colab": {
          "base_uri": "https://localhost:8080/"
        },
        "id": "F29igR7-MfNF",
        "outputId": "e0f06ebb-22b5-4568-92e2-ebe2446028f6"
      },
      "source": [
        "embedding_layer.get_config()"
      ],
      "execution_count": 27,
      "outputs": [
        {
          "output_type": "execute_result",
          "data": {
            "text/plain": [
              "{'activity_regularizer': None,\n",
              " 'batch_input_shape': (None, 81),\n",
              " 'dtype': 'float32',\n",
              " 'embeddings_constraint': None,\n",
              " 'embeddings_initializer': {'class_name': 'RandomUniform',\n",
              "  'config': {'maxval': 0.05, 'minval': -0.05, 'seed': None}},\n",
              " 'embeddings_regularizer': None,\n",
              " 'input_dim': 15802,\n",
              " 'input_length': 81,\n",
              " 'mask_zero': False,\n",
              " 'name': 'embedding',\n",
              " 'output_dim': 300,\n",
              " 'trainable': False}"
            ]
          },
          "metadata": {
            "tags": []
          },
          "execution_count": 27
        }
      ]
    },
    {
      "cell_type": "code",
      "metadata": {
        "id": "CTtAsZ0WPdqy"
      },
      "source": [
        "units = 150\n",
        "model.add(embedding_layer)\n",
        "model.add(LSTM(units))\n",
        "model.add(RepeatVector(max_message_sent_length))\n",
        "model.add(LSTM(units, return_sequences=True))\n",
        "model.add(Dense(vocabulary_size_message, activation='softmax'))\n",
        "rms = optimizers.RMSprop(lr=0.001)\n",
        "model.compile(optimizer=rms, loss='sparse_categorical_crossentropy')"
      ],
      "execution_count": 28,
      "outputs": []
    },
    {
      "cell_type": "code",
      "metadata": {
        "colab": {
          "base_uri": "https://localhost:8080/"
        },
        "id": "XzJYWNngVfcq",
        "outputId": "e733d816-e88a-47d6-e924-0be3c6eaa340"
      },
      "source": [
        "model.summary()"
      ],
      "execution_count": 29,
      "outputs": [
        {
          "output_type": "stream",
          "text": [
            "Model: \"sequential\"\n",
            "_________________________________________________________________\n",
            "Layer (type)                 Output Shape              Param #   \n",
            "=================================================================\n",
            "embedding (Embedding)        (None, 81, 300)           4740600   \n",
            "_________________________________________________________________\n",
            "lstm (LSTM)                  (None, 150)               270600    \n",
            "_________________________________________________________________\n",
            "repeat_vector (RepeatVector) (None, 60, 150)           0         \n",
            "_________________________________________________________________\n",
            "lstm_1 (LSTM)                (None, 60, 150)           180600    \n",
            "_________________________________________________________________\n",
            "dense (Dense)                (None, 60, 10335)         1560585   \n",
            "=================================================================\n",
            "Total params: 6,752,385\n",
            "Trainable params: 2,011,785\n",
            "Non-trainable params: 4,740,600\n",
            "_________________________________________________________________\n"
          ],
          "name": "stdout"
        }
      ]
    },
    {
      "cell_type": "code",
      "metadata": {
        "colab": {
          "base_uri": "https://localhost:8080/"
        },
        "id": "NdcDo_gUW2k6",
        "outputId": "98a01190-1e3c-40c8-bbcc-c13cee59aca0"
      },
      "source": [
        "import numpy as np\n",
        "count = 0\n",
        "weights = model.layers[0].get_weights()[0]\n",
        "for i in range(model.layers[0].get_weights()[0].shape[0]):\n",
        "  if np.all(weights[i]) == 0:\n",
        "    count += 1\n",
        "print(count)"
      ],
      "execution_count": 30,
      "outputs": [
        {
          "output_type": "stream",
          "text": [
            "6\n"
          ],
          "name": "stdout"
        }
      ]
    },
    {
      "cell_type": "code",
      "metadata": {
        "id": "XUxt4CxXXzni"
      },
      "source": [
        "filename = 'model.h5'\n",
        "checkpoint = ModelCheckpoint(filename, monitor='val_loss', verbose=1, save_best_only=True, mode='min')\n",
        "earlystopping = EarlyStopping(monitor='val_loss', mode = 'min', verbose = 1, patience = 20)"
      ],
      "execution_count": 62,
      "outputs": []
    },
    {
      "cell_type": "code",
      "metadata": {
        "colab": {
          "base_uri": "https://localhost:8080/"
        },
        "id": "60pshLVBX4td",
        "outputId": "aa15bf41-824a-42be-bbda-e40e1747b676"
      },
      "source": [
        "# model.fit(encode_original, encode_message, batch_size=64, validation_data=(encode_original_validate, encode_message_validate),\n",
        "        # verbose = 1, callbacks = [checkpoint])\n",
        "history = model.fit(encode_original, encode_message, batch_size=64,\n",
        "                    validation_split = 0.2, verbose = 1, callbacks = [checkpoint, earlystopping], epochs = 100)"
      ],
      "execution_count": 63,
      "outputs": [
        {
          "output_type": "stream",
          "text": [
            "Epoch 1/100\n",
            "102/103 [============================>.] - ETA: 0s - loss: 1.5251\n",
            "Epoch 00001: val_loss improved from inf to 2.29192, saving model to model.h5\n",
            "103/103 [==============================] - 10s 95ms/step - loss: 1.5253 - val_loss: 2.2919\n",
            "Epoch 2/100\n",
            "102/103 [============================>.] - ETA: 0s - loss: 1.5222\n",
            "Epoch 00002: val_loss improved from 2.29192 to 2.27751, saving model to model.h5\n",
            "103/103 [==============================] - 9s 89ms/step - loss: 1.5244 - val_loss: 2.2775\n",
            "Epoch 3/100\n",
            "102/103 [============================>.] - ETA: 0s - loss: 1.5196\n",
            "Epoch 00003: val_loss did not improve from 2.27751\n",
            "103/103 [==============================] - 9s 88ms/step - loss: 1.5188 - val_loss: 2.3002\n",
            "Epoch 4/100\n",
            "102/103 [============================>.] - ETA: 0s - loss: 1.5175\n",
            "Epoch 00004: val_loss did not improve from 2.27751\n",
            "103/103 [==============================] - 9s 89ms/step - loss: 1.5173 - val_loss: 2.2844\n",
            "Epoch 5/100\n",
            "102/103 [============================>.] - ETA: 0s - loss: 1.5124\n",
            "Epoch 00005: val_loss did not improve from 2.27751\n",
            "103/103 [==============================] - 9s 88ms/step - loss: 1.5136 - val_loss: 2.3157\n",
            "Epoch 6/100\n",
            "102/103 [============================>.] - ETA: 0s - loss: 1.5100\n",
            "Epoch 00006: val_loss did not improve from 2.27751\n",
            "103/103 [==============================] - 9s 87ms/step - loss: 1.5089 - val_loss: 2.2936\n",
            "Epoch 7/100\n",
            "102/103 [============================>.] - ETA: 0s - loss: 1.5099\n",
            "Epoch 00007: val_loss did not improve from 2.27751\n",
            "103/103 [==============================] - 9s 88ms/step - loss: 1.5085 - val_loss: 2.2987\n",
            "Epoch 8/100\n",
            "102/103 [============================>.] - ETA: 0s - loss: 1.5049\n",
            "Epoch 00008: val_loss did not improve from 2.27751\n",
            "103/103 [==============================] - 9s 88ms/step - loss: 1.5048 - val_loss: 2.3081\n",
            "Epoch 9/100\n",
            "102/103 [============================>.] - ETA: 0s - loss: 1.5023\n",
            "Epoch 00009: val_loss did not improve from 2.27751\n",
            "103/103 [==============================] - 9s 88ms/step - loss: 1.5021 - val_loss: 2.3197\n",
            "Epoch 10/100\n",
            "102/103 [============================>.] - ETA: 0s - loss: 1.4994\n",
            "Epoch 00010: val_loss did not improve from 2.27751\n",
            "103/103 [==============================] - 9s 88ms/step - loss: 1.4991 - val_loss: 2.3063\n",
            "Epoch 11/100\n",
            "102/103 [============================>.] - ETA: 0s - loss: 1.4969\n",
            "Epoch 00011: val_loss did not improve from 2.27751\n",
            "103/103 [==============================] - 9s 88ms/step - loss: 1.4971 - val_loss: 2.3029\n",
            "Epoch 12/100\n",
            "102/103 [============================>.] - ETA: 0s - loss: 1.4918\n",
            "Epoch 00012: val_loss did not improve from 2.27751\n",
            "103/103 [==============================] - 9s 88ms/step - loss: 1.4939 - val_loss: 2.3393\n",
            "Epoch 13/100\n",
            "102/103 [============================>.] - ETA: 0s - loss: 1.4913\n",
            "Epoch 00013: val_loss did not improve from 2.27751\n",
            "103/103 [==============================] - 9s 88ms/step - loss: 1.4907 - val_loss: 2.3181\n",
            "Epoch 14/100\n",
            "102/103 [============================>.] - ETA: 0s - loss: 1.4885\n",
            "Epoch 00014: val_loss did not improve from 2.27751\n",
            "103/103 [==============================] - 9s 88ms/step - loss: 1.4875 - val_loss: 2.3174\n",
            "Epoch 15/100\n",
            "102/103 [============================>.] - ETA: 0s - loss: 1.4846\n",
            "Epoch 00015: val_loss did not improve from 2.27751\n",
            "103/103 [==============================] - 9s 88ms/step - loss: 1.4849 - val_loss: 2.3488\n",
            "Epoch 16/100\n",
            "102/103 [============================>.] - ETA: 0s - loss: 1.4819\n",
            "Epoch 00016: val_loss did not improve from 2.27751\n",
            "103/103 [==============================] - 9s 88ms/step - loss: 1.4833 - val_loss: 2.3317\n",
            "Epoch 17/100\n",
            "102/103 [============================>.] - ETA: 0s - loss: 1.4803\n",
            "Epoch 00017: val_loss did not improve from 2.27751\n",
            "103/103 [==============================] - 9s 88ms/step - loss: 1.4800 - val_loss: 2.3257\n",
            "Epoch 18/100\n",
            "102/103 [============================>.] - ETA: 0s - loss: 1.4797\n",
            "Epoch 00018: val_loss did not improve from 2.27751\n",
            "103/103 [==============================] - 9s 88ms/step - loss: 1.4787 - val_loss: 2.3238\n",
            "Epoch 19/100\n",
            "102/103 [============================>.] - ETA: 0s - loss: 1.4751\n",
            "Epoch 00019: val_loss did not improve from 2.27751\n",
            "103/103 [==============================] - 9s 88ms/step - loss: 1.4761 - val_loss: 2.3258\n",
            "Epoch 20/100\n",
            "102/103 [============================>.] - ETA: 0s - loss: 1.4745\n",
            "Epoch 00020: val_loss did not improve from 2.27751\n",
            "103/103 [==============================] - 9s 88ms/step - loss: 1.4736 - val_loss: 2.3324\n",
            "Epoch 21/100\n",
            "102/103 [============================>.] - ETA: 0s - loss: 1.4700\n",
            "Epoch 00021: val_loss did not improve from 2.27751\n",
            "103/103 [==============================] - 9s 88ms/step - loss: 1.4706 - val_loss: 2.3413\n",
            "Epoch 22/100\n",
            "102/103 [============================>.] - ETA: 0s - loss: 1.4680\n",
            "Epoch 00022: val_loss did not improve from 2.27751\n",
            "103/103 [==============================] - 9s 88ms/step - loss: 1.4679 - val_loss: 2.3389\n",
            "Epoch 00022: early stopping\n"
          ],
          "name": "stdout"
        }
      ]
    },
    {
      "cell_type": "code",
      "metadata": {
        "colab": {
          "base_uri": "https://localhost:8080/",
          "height": 265
        },
        "id": "eVyunvl0gB1k",
        "outputId": "132f0c84-df5a-40d4-9e33-e8defd68a560"
      },
      "source": [
        "plt.plot(history.history['loss'])\n",
        "plt.plot(history.history['val_loss'])\n",
        "plt.legend(['train','validation'])\n",
        "plt.show()"
      ],
      "execution_count": 64,
      "outputs": [
        {
          "output_type": "display_data",
          "data": {
            "image/png": "[encoded data removed]",
            "text/plain": [
              "<Figure size 432x288 with 1 Axes>"
            ]
          },
          "metadata": {
            "tags": [],
            "needs_background": "light"
          }
        }
      ]
    },
    {
      "cell_type": "code",
      "metadata": {
        "id": "t8gBHswIre55"
      },
      "source": [
        "model = load_model(filename)"
      ],
      "execution_count": 65,
      "outputs": []
    },
    {
      "cell_type": "code",
      "metadata": {
        "colab": {
          "base_uri": "https://localhost:8080/"
        },
        "id": "UsOo4lyErxOv",
        "outputId": "c53b085e-b587-401b-df8f-27b9ef266147"
      },
      "source": [
        "encode_original_validate[0:100]"
      ],
      "execution_count": 66,
      "outputs": [
        {
          "output_type": "execute_result",
          "data": {
            "text/plain": [
              "array([[14824,    42,  1475, ...,     0,     0,     0],\n",
              "       [    1,  1605,     1, ...,     0,     0,     0],\n",
              "       [   29,    12,   131, ...,     0,     0,     0],\n",
              "       ...,\n",
              "       [   15,     7,    10, ...,     0,     0,     0],\n",
              "       [    2,    23,    43, ...,     0,     0,     0],\n",
              "       [    1,     3,   716, ...,     0,     0,     0]], dtype=int32)"
            ]
          },
          "metadata": {
            "tags": []
          },
          "execution_count": 66
        }
      ]
    },
    {
      "cell_type": "code",
      "metadata": {
        "id": "Le_sj3zCqdpF"
      },
      "source": [
        "prediction = model.predict_classes(encode_original_validate[:100])"
      ],
      "execution_count": 67,
      "outputs": []
    },
    {
      "cell_type": "code",
      "metadata": {
        "id": "FFbYfr00spHr"
      },
      "source": [
        "def get_word(n, tokenizer):\n",
        "      for word, index in tokenizer.word_index.items():\n",
        "          if index == n:\n",
        "              return word\n",
        "      return None\n",
        "\n",
        "predicted_text = []\n",
        "for i in prediction:\n",
        "       temp = []\n",
        "       for j in range(len(i)):\n",
        "            t = get_word(i[j], tokenizer_message_train)\n",
        "            if j > 0:\n",
        "                if (t == get_word(i[j-1], tokenizer_message_train)) or (t == None):\n",
        "                     temp.append('')\n",
        "                else:\n",
        "                     temp.append(t)\n",
        "            else:\n",
        "                   if(t == None):\n",
        "                          temp.append('')\n",
        "                   else:\n",
        "                          temp.append(t) \n",
        "\n",
        "       predicted_text.append(' '.join(temp))"
      ],
      "execution_count": 78,
      "outputs": []
    },
    {
      "cell_type": "code",
      "metadata": {
        "colab": {
          "base_uri": "https://localhost:8080/",
          "height": 35
        },
        "id": "DkfbUNVYvmix",
        "outputId": "adab847d-44b1-4bd7-f9eb-09abdba48fb3"
      },
      "source": [
        "preds_text[14]"
      ],
      "execution_count": 77,
      "outputs": [
        {
          "output_type": "execute_result",
          "data": {
            "application/vnd.google.colaboratory.intrinsic+json": {
              "type": "string"
            },
            "text/plain": [
              "'we are  water in                                                       '"
            ]
          },
          "metadata": {
            "tags": []
          },
          "execution_count": 77
        }
      ]
    },
    {
      "cell_type": "code",
      "metadata": {
        "colab": {
          "base_uri": "https://localhost:8080/",
          "height": 415
        },
        "id": "FxVtolhRHpx0",
        "outputId": "6836a109-7ccb-462b-e2cf-2c7d3b31f651"
      },
      "source": [
        "df_validation[df_validation['label'] == \"__label__fr\"]"
      ],
      "execution_count": 72,
      "outputs": [
        {
          "output_type": "execute_result",
          "data": {
            "text/html": [
              "<div>\n",
              "<style scoped>\n",
              "    .dataframe tbody tr th:only-of-type {\n",
              "        vertical-align: middle;\n",
              "    }\n",
              "\n",
              "    .dataframe tbody tr th {\n",
              "        vertical-align: top;\n",
              "    }\n",
              "\n",
              "    .dataframe thead th {\n",
              "        text-align: right;\n",
              "    }\n",
              "</style>\n",
              "<table border=\"1\" class=\"dataframe\">\n",
              "  <thead>\n",
              "    <tr style=\"text-align: right;\">\n",
              "      <th></th>\n",
              "      <th>message</th>\n",
              "      <th>original</th>\n",
              "      <th>label</th>\n",
              "    </tr>\n",
              "  </thead>\n",
              "  <tbody>\n",
              "    <tr>\n",
              "      <th>14</th>\n",
              "      <td>help us at delmas 65 orchidee street, we are t...</td>\n",
              "      <td>aide mous a delmas 65 rue orchidye nous avons ...</td>\n",
              "      <td>__label__fr</td>\n",
              "    </tr>\n",
              "    <tr>\n",
              "      <th>23</th>\n",
              "      <td>i need water, 27 bertin street, carrefour</td>\n",
              "      <td>j ai besoin d eau 27 bertin, carrefour</td>\n",
              "      <td>__label__fr</td>\n",
              "    </tr>\n",
              "    <tr>\n",
              "      <th>24</th>\n",
              "      <td>overpopulation in the city of cay. there is no...</td>\n",
              "      <td>surpopulation dans la ville des cayes. pas de ...</td>\n",
              "      <td>__label__fr</td>\n",
              "    </tr>\n",
              "    <tr>\n",
              "      <th>25</th>\n",
              "      <td>no one can buy anything. tiny amounts of rice ...</td>\n",
              "      <td>ou paka achte anyen demi bout diri ap vann 350...</td>\n",
              "      <td>__label__fr</td>\n",
              "    </tr>\n",
              "    <tr>\n",
              "      <th>26</th>\n",
              "      <td>i don't know where there is a cyber cafe open....</td>\n",
              "      <td>mwen pa konnen ki cyber cafe ki ouve nou menm ...</td>\n",
              "      <td>__label__fr</td>\n",
              "    </tr>\n",
              "    <tr>\n",
              "      <th>...</th>\n",
              "      <td>...</td>\n",
              "      <td>...</td>\n",
              "      <td>...</td>\n",
              "    </tr>\n",
              "    <tr>\n",
              "      <th>961</th>\n",
              "      <td>notes: it's not important to translate</td>\n",
              "      <td>martyre:ltils tombaient sous le fouet,perissai...</td>\n",
              "      <td>__label__fr</td>\n",
              "    </tr>\n",
              "    <tr>\n",
              "      <th>962</th>\n",
              "      <td>i love you and i want to work</td>\n",
              "      <td>je t'aime et je veux travailler.</td>\n",
              "      <td>__label__fr</td>\n",
              "    </tr>\n",
              "    <tr>\n",
              "      <th>964</th>\n",
              "      <td>i need the school help(assistant). i live in m...</td>\n",
              "      <td>j'ai besoin de l'aide scolaire. je suis  mireb...</td>\n",
              "      <td>__label__fr</td>\n",
              "    </tr>\n",
              "    <tr>\n",
              "      <th>966</th>\n",
              "      <td>have 100 flood effecte beleive at,ap logon ko ...</td>\n",
              "      <td>100  effecte  ,     fl   effecte!  rhe likin a...</td>\n",
              "      <td>__label__fr</td>\n",
              "    </tr>\n",
              "    <tr>\n",
              "      <th>969</th>\n",
              "      <td>watan.card ki dosri qist kab jari ho gi. kotad...</td>\n",
              "      <td>.      . . a</td>\n",
              "      <td>__label__fr</td>\n",
              "    </tr>\n",
              "  </tbody>\n",
              "</table>\n",
              "<p>287 rows × 3 columns</p>\n",
              "</div>"
            ],
            "text/plain": [
              "                                               message  ...        label\n",
              "14   help us at delmas 65 orchidee street, we are t...  ...  __label__fr\n",
              "23           i need water, 27 bertin street, carrefour  ...  __label__fr\n",
              "24   overpopulation in the city of cay. there is no...  ...  __label__fr\n",
              "25   no one can buy anything. tiny amounts of rice ...  ...  __label__fr\n",
              "26   i don't know where there is a cyber cafe open....  ...  __label__fr\n",
              "..                                                 ...  ...          ...\n",
              "961             notes: it's not important to translate  ...  __label__fr\n",
              "962                     i love you and i want to work   ...  __label__fr\n",
              "964  i need the school help(assistant). i live in m...  ...  __label__fr\n",
              "966  have 100 flood effecte beleive at,ap logon ko ...  ...  __label__fr\n",
              "969  watan.card ki dosri qist kab jari ho gi. kotad...  ...  __label__fr\n",
              "\n",
              "[287 rows x 3 columns]"
            ]
          },
          "metadata": {
            "tags": []
          },
          "execution_count": 72
        }
      ]
    }
  ]
}